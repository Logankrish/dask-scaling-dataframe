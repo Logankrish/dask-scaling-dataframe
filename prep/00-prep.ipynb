{
 "cells": [
  {
   "cell_type": "code",
   "execution_count": 1,
   "metadata": {},
   "outputs": [],
   "source": [
    "import dask.dataframe as dd\n",
    "import numpy as np\n",
    "from dask.distributed import Client"
   ]
  },
  {
   "cell_type": "code",
   "execution_count": 2,
   "metadata": {},
   "outputs": [
    {
     "data": {
      "text/html": [
       "<table style=\"border: 2px solid white;\">\n",
       "<tr>\n",
       "<td style=\"vertical-align: top; border: 0px solid white\">\n",
       "<h3 style=\"text-align: left;\">Client</h3>\n",
       "<ul style=\"text-align: left; list-style: none; margin: 0; padding: 0;\">\n",
       "  <li><b>Scheduler: </b>tcp://127.0.0.1:63071</li>\n",
       "  <li><b>Dashboard: </b><a href='http://127.0.0.1:8787/status' target='_blank'>http://127.0.0.1:8787/status</a></li>\n",
       "</ul>\n",
       "</td>\n",
       "<td style=\"vertical-align: top; border: 0px solid white\">\n",
       "<h3 style=\"text-align: left;\">Cluster</h3>\n",
       "<ul style=\"text-align: left; list-style:none; margin: 0; padding: 0;\">\n",
       "  <li><b>Workers: </b>4</li>\n",
       "  <li><b>Cores: </b>8</li>\n",
       "  <li><b>Memory: </b>17.18 GB</li>\n",
       "</ul>\n",
       "</td>\n",
       "</tr>\n",
       "</table>"
      ],
      "text/plain": [
       "<Client: 'tcp://127.0.0.1:63071' processes=4 threads=8, memory=17.18 GB>"
      ]
     },
     "execution_count": 2,
     "metadata": {},
     "output_type": "execute_result"
    }
   ],
   "source": [
    "client = Client()\n",
    "client"
   ]
  },
  {
   "cell_type": "code",
   "execution_count": 3,
   "metadata": {},
   "outputs": [],
   "source": [
    "fare_dtypes = {\n",
    "    \"vendor_id\": \"category\",\n",
    "    \"payment_type\": \"category\",\n",
    "    \"fare_amount\": 'float64',\n",
    "    'surcharge': 'float64',\n",
    "    'mta_tax': 'float64',\n",
    "    'tip_amount': 'float64',\n",
    "    'tolls_amount': \"float64\",\n",
    "    \"total_amount\": \"float64\"\n",
    "}\n",
    "\n",
    "cat_cols = ['medallion', 'hack_license']"
   ]
  },
  {
   "cell_type": "code",
   "execution_count": 4,
   "metadata": {},
   "outputs": [],
   "source": [
    "fares_fn = \"/Volumes/ssd-t3/data/nyc-opendata/taxi/trip_fare_12.csv\""
   ]
  },
  {
   "cell_type": "code",
   "execution_count": 5,
   "metadata": {},
   "outputs": [
    {
     "data": {
      "text/plain": [
       "['medallion',\n",
       " 'hack_license',\n",
       " 'vendor_id',\n",
       " 'pickup_datetime',\n",
       " 'payment_type',\n",
       " 'fare_amount',\n",
       " 'surcharge',\n",
       " 'mta_tax',\n",
       " 'tip_amount',\n",
       " 'tolls_amount',\n",
       " 'total_amount']"
      ]
     },
     "execution_count": 5,
     "metadata": {},
     "output_type": "execute_result"
    }
   ],
   "source": [
    "# read column names\n",
    "with open(fares_fn, 'r') as f:\n",
    "    fares_cols = [x.strip() for x in f.readline().split(',')]\n",
    "fares_cols"
   ]
  },
  {
   "cell_type": "code",
   "execution_count": 6,
   "metadata": {},
   "outputs": [],
   "source": [
    "fares = dd.read_csv(\n",
    "    fares_fn, names=fares_cols, header=0, parse_dates=['pickup_datetime'],\n",
    "    dtype=fare_dtypes, infer_datetime_format=True\n",
    ")"
   ]
  },
  {
   "cell_type": "code",
   "execution_count": 7,
   "metadata": {},
   "outputs": [],
   "source": [
    "fares = fares.persist()"
   ]
  },
  {
   "cell_type": "code",
   "execution_count": 15,
   "metadata": {},
   "outputs": [
    {
     "data": {
      "text/plain": [
       "medallion                  object\n",
       "hack_license               object\n",
       "vendor_id                category\n",
       "pickup_datetime    datetime64[ns]\n",
       "payment_type             category\n",
       "fare_amount               float64\n",
       "surcharge                 float64\n",
       "mta_tax                   float64\n",
       "tip_amount                float64\n",
       "tolls_amount              float64\n",
       "total_amount              float64\n",
       "dtype: object"
      ]
     },
     "execution_count": 15,
     "metadata": {},
     "output_type": "execute_result"
    }
   ],
   "source": [
    "fares.dtypes"
   ]
  },
  {
   "cell_type": "markdown",
   "metadata": {},
   "source": [
    "## Create foreign key tables"
   ]
  },
  {
   "cell_type": "code",
   "execution_count": 10,
   "metadata": {},
   "outputs": [
    {
     "data": {
      "text/plain": [
       "13460"
      ]
     },
     "execution_count": 10,
     "metadata": {},
     "output_type": "execute_result"
    }
   ],
   "source": [
    "# how many medallions?\n",
    "fares.medallion.nunique().compute()"
   ]
  },
  {
   "cell_type": "code",
   "execution_count": 8,
   "metadata": {},
   "outputs": [],
   "source": [
    "medallions = fares.medallion.unique().compute()"
   ]
  },
  {
   "cell_type": "code",
   "execution_count": 11,
   "metadata": {},
   "outputs": [],
   "source": [
    "medallions = (medallions\n",
    "    .sort_values()\n",
    "    .to_frame()\n",
    "    .assign(medallion_id=lambda df: df.index + 1)\n",
    "    .astype({'medallion_id': np.uint16})\n",
    ")"
   ]
  },
  {
   "cell_type": "code",
   "execution_count": 13,
   "metadata": {},
   "outputs": [
    {
     "data": {
      "text/plain": [
       "33381"
      ]
     },
     "execution_count": 13,
     "metadata": {},
     "output_type": "execute_result"
    }
   ],
   "source": [
    "# how many licenses?\n",
    "fares.hack_license.nunique().compute()"
   ]
  },
  {
   "cell_type": "code",
   "execution_count": 12,
   "metadata": {},
   "outputs": [],
   "source": [
    "hack_license = fares.hack_license.unique().compute()"
   ]
  },
  {
   "cell_type": "code",
   "execution_count": 14,
   "metadata": {},
   "outputs": [],
   "source": [
    "hack_license = (hack_license\n",
    "    .sort_values()\n",
    "    .to_frame()\n",
    "    .assign(hack_license_id=lambda df: df.index + 1)\n",
    "    .astype({'hack_license_id': np.uint16})\n",
    ")"
   ]
  },
  {
   "cell_type": "markdown",
   "metadata": {},
   "source": [
    "## More exploratory analysis"
   ]
  },
  {
   "cell_type": "code",
   "execution_count": 17,
   "metadata": {},
   "outputs": [
    {
     "data": {
      "text/plain": [
       "13971118"
      ]
     },
     "execution_count": 17,
     "metadata": {},
     "output_type": "execute_result"
    }
   ],
   "source": [
    "len(fares)"
   ]
  },
  {
   "cell_type": "code",
   "execution_count": null,
   "metadata": {},
   "outputs": [],
   "source": [
    "fares.npartitions"
   ]
  },
  {
   "cell_type": "code",
   "execution_count": 16,
   "metadata": {},
   "outputs": [
    {
     "data": {
      "text/plain": [
       "2"
      ]
     },
     "execution_count": 16,
     "metadata": {},
     "output_type": "execute_result"
    }
   ],
   "source": [
    "fares.vendor_id.nunique().compute()"
   ]
  },
  {
   "cell_type": "code",
   "execution_count": 21,
   "metadata": {},
   "outputs": [
    {
     "data": {
      "text/plain": [
       "'13459'"
      ]
     },
     "execution_count": 21,
     "metadata": {},
     "output_type": "execute_result"
    }
   ],
   "source": [
    "\"%d\" % fares.medallion.nunique_approx().compute()"
   ]
  },
  {
   "cell_type": "code",
   "execution_count": 22,
   "metadata": {},
   "outputs": [],
   "source": [
    "# get values for partitions\n",
    "fares_dts = sorted(\n",
    "    fares.pickup_datetime.dt.normalize().unique().compute().array)"
   ]
  },
  {
   "cell_type": "code",
   "execution_count": 26,
   "metadata": {},
   "outputs": [],
   "source": [
    "fares_cols = [\n",
    "    'medallion_id', 'hack_license_id',\n",
    "    'payment_type', 'fare_amount', 'surcharge', 'mta_tax', 'tip_amount', \n",
    "    'tolls_amount', 'total_amount', 'pickup_datetime'\n",
    "]\n",
    "fares2 = (fares\n",
    "    .merge(medallions, on='medallion')\n",
    "    .merge(hack_license, on='hack_license')\n",
    "    [fares_cols]\n",
    "    .set_index('pickup_datetime', divisions=fares_dts)\n",
    "    .persist())"
   ]
  },
  {
   "cell_type": "code",
   "execution_count": 27,
   "metadata": {},
   "outputs": [
    {
     "data": {
      "text/html": [
       "<div>\n",
       "<style scoped>\n",
       "    .dataframe tbody tr th:only-of-type {\n",
       "        vertical-align: middle;\n",
       "    }\n",
       "\n",
       "    .dataframe tbody tr th {\n",
       "        vertical-align: top;\n",
       "    }\n",
       "\n",
       "    .dataframe thead th {\n",
       "        text-align: right;\n",
       "    }\n",
       "</style>\n",
       "<table border=\"1\" class=\"dataframe\">\n",
       "  <thead>\n",
       "    <tr style=\"text-align: right;\">\n",
       "      <th></th>\n",
       "      <th>medallion_id</th>\n",
       "      <th>hack_license_id</th>\n",
       "      <th>payment_type</th>\n",
       "      <th>fare_amount</th>\n",
       "      <th>surcharge</th>\n",
       "      <th>mta_tax</th>\n",
       "      <th>tip_amount</th>\n",
       "      <th>tolls_amount</th>\n",
       "      <th>total_amount</th>\n",
       "    </tr>\n",
       "    <tr>\n",
       "      <th>pickup_datetime</th>\n",
       "      <th></th>\n",
       "      <th></th>\n",
       "      <th></th>\n",
       "      <th></th>\n",
       "      <th></th>\n",
       "      <th></th>\n",
       "      <th></th>\n",
       "      <th></th>\n",
       "      <th></th>\n",
       "    </tr>\n",
       "  </thead>\n",
       "  <tbody>\n",
       "    <tr>\n",
       "      <th>2013-12-01</th>\n",
       "      <td>229</td>\n",
       "      <td>245</td>\n",
       "      <td>CRD</td>\n",
       "      <td>8.5</td>\n",
       "      <td>0.5</td>\n",
       "      <td>0.5</td>\n",
       "      <td>2.00</td>\n",
       "      <td>0.0</td>\n",
       "      <td>11.50</td>\n",
       "    </tr>\n",
       "    <tr>\n",
       "      <th>2013-12-01</th>\n",
       "      <td>2406</td>\n",
       "      <td>4173</td>\n",
       "      <td>CSH</td>\n",
       "      <td>11.5</td>\n",
       "      <td>0.5</td>\n",
       "      <td>0.5</td>\n",
       "      <td>0.00</td>\n",
       "      <td>0.0</td>\n",
       "      <td>12.50</td>\n",
       "    </tr>\n",
       "    <tr>\n",
       "      <th>2013-12-01</th>\n",
       "      <td>3172</td>\n",
       "      <td>1400</td>\n",
       "      <td>CRD</td>\n",
       "      <td>16.0</td>\n",
       "      <td>0.5</td>\n",
       "      <td>0.5</td>\n",
       "      <td>3.30</td>\n",
       "      <td>0.0</td>\n",
       "      <td>20.30</td>\n",
       "    </tr>\n",
       "    <tr>\n",
       "      <th>2013-12-01</th>\n",
       "      <td>4430</td>\n",
       "      <td>7333</td>\n",
       "      <td>CRD</td>\n",
       "      <td>23.0</td>\n",
       "      <td>0.5</td>\n",
       "      <td>0.5</td>\n",
       "      <td>4.70</td>\n",
       "      <td>0.0</td>\n",
       "      <td>28.70</td>\n",
       "    </tr>\n",
       "    <tr>\n",
       "      <th>2013-12-01</th>\n",
       "      <td>1910</td>\n",
       "      <td>3714</td>\n",
       "      <td>UNK</td>\n",
       "      <td>19.0</td>\n",
       "      <td>0.5</td>\n",
       "      <td>0.5</td>\n",
       "      <td>4.88</td>\n",
       "      <td>0.0</td>\n",
       "      <td>24.88</td>\n",
       "    </tr>\n",
       "  </tbody>\n",
       "</table>\n",
       "</div>"
      ],
      "text/plain": [
       "                 medallion_id  hack_license_id payment_type  fare_amount  \\\n",
       "pickup_datetime                                                            \n",
       "2013-12-01                229              245          CRD          8.5   \n",
       "2013-12-01               2406             4173          CSH         11.5   \n",
       "2013-12-01               3172             1400          CRD         16.0   \n",
       "2013-12-01               4430             7333          CRD         23.0   \n",
       "2013-12-01               1910             3714          UNK         19.0   \n",
       "\n",
       "                 surcharge  mta_tax  tip_amount  tolls_amount  total_amount  \n",
       "pickup_datetime                                                              \n",
       "2013-12-01             0.5      0.5        2.00           0.0         11.50  \n",
       "2013-12-01             0.5      0.5        0.00           0.0         12.50  \n",
       "2013-12-01             0.5      0.5        3.30           0.0         20.30  \n",
       "2013-12-01             0.5      0.5        4.70           0.0         28.70  \n",
       "2013-12-01             0.5      0.5        4.88           0.0         24.88  "
      ]
     },
     "execution_count": 27,
     "metadata": {},
     "output_type": "execute_result"
    }
   ],
   "source": [
    "fares2.head()"
   ]
  },
  {
   "cell_type": "code",
   "execution_count": null,
   "metadata": {},
   "outputs": [],
   "source": [
    "# fares.index.max().compute() # slow, don't do this"
   ]
  },
  {
   "cell_type": "code",
   "execution_count": 28,
   "metadata": {},
   "outputs": [
    {
     "data": {
      "text/plain": [
       "True"
      ]
     },
     "execution_count": 28,
     "metadata": {},
     "output_type": "execute_result"
    }
   ],
   "source": [
    "fares2.known_divisions"
   ]
  },
  {
   "cell_type": "code",
   "execution_count": 29,
   "metadata": {},
   "outputs": [
    {
     "data": {
      "text/plain": [
       "(Timestamp('2013-12-01 00:00:00'),\n",
       " Timestamp('2013-12-02 00:00:00'),\n",
       " Timestamp('2013-12-03 00:00:00'),\n",
       " Timestamp('2013-12-04 00:00:00'),\n",
       " Timestamp('2013-12-05 00:00:00'))"
      ]
     },
     "execution_count": 29,
     "metadata": {},
     "output_type": "execute_result"
    }
   ],
   "source": [
    "fares2.divisions[:5]"
   ]
  },
  {
   "cell_type": "code",
   "execution_count": 30,
   "metadata": {},
   "outputs": [
    {
     "data": {
      "text/plain": [
       "(Timestamp('2013-12-01 00:00:00'), Timestamp('2013-12-31 00:00:00'))"
      ]
     },
     "execution_count": 30,
     "metadata": {},
     "output_type": "execute_result"
    }
   ],
   "source": [
    "min(fares2.divisions), max(fares2.divisions)"
   ]
  },
  {
   "cell_type": "code",
   "execution_count": 31,
   "metadata": {},
   "outputs": [],
   "source": [
    "fares_fout = 'data/taxi-small/fares.parq'\n",
    "(fares2\n",
    "    .sample(frac=0.025)\n",
    "    .to_parquet(fares_fout, compression=\"brotli\")\n",
    ")"
   ]
  },
  {
   "cell_type": "code",
   "execution_count": 32,
   "metadata": {},
   "outputs": [],
   "source": [
    "del fares, fares2"
   ]
  },
  {
   "cell_type": "markdown",
   "metadata": {},
   "source": [
    "# Load the trips data"
   ]
  },
  {
   "cell_type": "code",
   "execution_count": 33,
   "metadata": {},
   "outputs": [],
   "source": [
    "trips_fn = \"/Volumes/ssd-t3/data/nyc-opendata/taxi/trip_data_12.csv\""
   ]
  },
  {
   "cell_type": "code",
   "execution_count": 34,
   "metadata": {},
   "outputs": [
    {
     "data": {
      "text/plain": [
       "['medallion',\n",
       " 'hack_license',\n",
       " 'vendor_id',\n",
       " 'rate_code',\n",
       " 'store_and_fwd_flag',\n",
       " 'pickup_datetime',\n",
       " 'dropoff_datetime',\n",
       " 'passenger_count',\n",
       " 'trip_time_in_secs',\n",
       " 'trip_distance',\n",
       " 'pickup_longitude',\n",
       " 'pickup_latitude',\n",
       " 'dropoff_longitude',\n",
       " 'dropoff_latitude']"
      ]
     },
     "execution_count": 34,
     "metadata": {},
     "output_type": "execute_result"
    }
   ],
   "source": [
    "# read column names\n",
    "with open(trips_fn, 'r') as f:\n",
    "    trips_cols = [x.strip() for x in f.readline().split(',')]\n",
    "trips_cols"
   ]
  },
  {
   "cell_type": "code",
   "execution_count": 39,
   "metadata": {},
   "outputs": [],
   "source": [
    "trips = dd.read_csv(trips_fn, header=0, names=trips_cols).persist()"
   ]
  },
  {
   "cell_type": "code",
   "execution_count": 40,
   "metadata": {},
   "outputs": [
    {
     "data": {
      "text/html": [
       "<div>\n",
       "<style scoped>\n",
       "    .dataframe tbody tr th:only-of-type {\n",
       "        vertical-align: middle;\n",
       "    }\n",
       "\n",
       "    .dataframe tbody tr th {\n",
       "        vertical-align: top;\n",
       "    }\n",
       "\n",
       "    .dataframe thead th {\n",
       "        text-align: right;\n",
       "    }\n",
       "</style>\n",
       "<table border=\"1\" class=\"dataframe\">\n",
       "  <thead>\n",
       "    <tr style=\"text-align: right;\">\n",
       "      <th></th>\n",
       "      <th>medallion</th>\n",
       "      <th>hack_license</th>\n",
       "      <th>vendor_id</th>\n",
       "      <th>rate_code</th>\n",
       "      <th>store_and_fwd_flag</th>\n",
       "      <th>pickup_datetime</th>\n",
       "      <th>dropoff_datetime</th>\n",
       "      <th>passenger_count</th>\n",
       "      <th>trip_time_in_secs</th>\n",
       "      <th>trip_distance</th>\n",
       "      <th>pickup_longitude</th>\n",
       "      <th>pickup_latitude</th>\n",
       "      <th>dropoff_longitude</th>\n",
       "      <th>dropoff_latitude</th>\n",
       "    </tr>\n",
       "  </thead>\n",
       "  <tbody>\n",
       "    <tr>\n",
       "      <th>0</th>\n",
       "      <td>D7D598CD99978BD012A87A76A7C891B7</td>\n",
       "      <td>82F90D5EFE52FDFD2FDEC3EAD6D5771D</td>\n",
       "      <td>VTS</td>\n",
       "      <td>1</td>\n",
       "      <td>NaN</td>\n",
       "      <td>2013-12-01 00:13:00</td>\n",
       "      <td>2013-12-01 00:31:00</td>\n",
       "      <td>1</td>\n",
       "      <td>1080</td>\n",
       "      <td>3.90</td>\n",
       "      <td>-73.979340</td>\n",
       "      <td>40.776653</td>\n",
       "      <td>-73.981865</td>\n",
       "      <td>40.734280</td>\n",
       "    </tr>\n",
       "    <tr>\n",
       "      <th>1</th>\n",
       "      <td>5455D5FF2BD94D10B304A15D4B7F2735</td>\n",
       "      <td>177B80B867CEC990DA166BA1D0FCAF82</td>\n",
       "      <td>VTS</td>\n",
       "      <td>1</td>\n",
       "      <td>NaN</td>\n",
       "      <td>2013-12-01 00:40:00</td>\n",
       "      <td>2013-12-01 00:48:00</td>\n",
       "      <td>6</td>\n",
       "      <td>480</td>\n",
       "      <td>3.20</td>\n",
       "      <td>-73.939674</td>\n",
       "      <td>40.726154</td>\n",
       "      <td>-73.985580</td>\n",
       "      <td>40.718075</td>\n",
       "    </tr>\n",
       "    <tr>\n",
       "      <th>2</th>\n",
       "      <td>93D6821F86A12B537C5EADBDFB432CA7</td>\n",
       "      <td>28B0AA10202F83FEB0F4E69340CA8F86</td>\n",
       "      <td>VTS</td>\n",
       "      <td>1</td>\n",
       "      <td>NaN</td>\n",
       "      <td>2013-12-01 02:21:00</td>\n",
       "      <td>2013-12-01 02:30:00</td>\n",
       "      <td>5</td>\n",
       "      <td>540</td>\n",
       "      <td>3.28</td>\n",
       "      <td>-73.958755</td>\n",
       "      <td>40.768078</td>\n",
       "      <td>-73.958755</td>\n",
       "      <td>40.768078</td>\n",
       "    </tr>\n",
       "    <tr>\n",
       "      <th>3</th>\n",
       "      <td>0C107B532C1207A74F0D8609B9E092FF</td>\n",
       "      <td>66C2CECD93E395CB9B875E9B382DB5D9</td>\n",
       "      <td>VTS</td>\n",
       "      <td>1</td>\n",
       "      <td>NaN</td>\n",
       "      <td>2013-12-01 02:14:00</td>\n",
       "      <td>2013-12-01 02:22:00</td>\n",
       "      <td>1</td>\n",
       "      <td>480</td>\n",
       "      <td>1.84</td>\n",
       "      <td>-73.978836</td>\n",
       "      <td>40.724194</td>\n",
       "      <td>-73.979736</td>\n",
       "      <td>40.743412</td>\n",
       "    </tr>\n",
       "    <tr>\n",
       "      <th>4</th>\n",
       "      <td>801C69A08B51470871A8110F8B0505EE</td>\n",
       "      <td>91A07EEF642E8590C2EFD631C3DF89C9</td>\n",
       "      <td>VTS</td>\n",
       "      <td>1</td>\n",
       "      <td>NaN</td>\n",
       "      <td>2013-12-01 04:45:00</td>\n",
       "      <td>2013-12-01 04:50:00</td>\n",
       "      <td>1</td>\n",
       "      <td>300</td>\n",
       "      <td>1.02</td>\n",
       "      <td>-73.991364</td>\n",
       "      <td>40.735073</td>\n",
       "      <td>-73.978943</td>\n",
       "      <td>40.734600</td>\n",
       "    </tr>\n",
       "  </tbody>\n",
       "</table>\n",
       "</div>"
      ],
      "text/plain": [
       "                          medallion                      hack_license  \\\n",
       "0  D7D598CD99978BD012A87A76A7C891B7  82F90D5EFE52FDFD2FDEC3EAD6D5771D   \n",
       "1  5455D5FF2BD94D10B304A15D4B7F2735  177B80B867CEC990DA166BA1D0FCAF82   \n",
       "2  93D6821F86A12B537C5EADBDFB432CA7  28B0AA10202F83FEB0F4E69340CA8F86   \n",
       "3  0C107B532C1207A74F0D8609B9E092FF  66C2CECD93E395CB9B875E9B382DB5D9   \n",
       "4  801C69A08B51470871A8110F8B0505EE  91A07EEF642E8590C2EFD631C3DF89C9   \n",
       "\n",
       "  vendor_id  rate_code store_and_fwd_flag      pickup_datetime  \\\n",
       "0       VTS          1                NaN  2013-12-01 00:13:00   \n",
       "1       VTS          1                NaN  2013-12-01 00:40:00   \n",
       "2       VTS          1                NaN  2013-12-01 02:21:00   \n",
       "3       VTS          1                NaN  2013-12-01 02:14:00   \n",
       "4       VTS          1                NaN  2013-12-01 04:45:00   \n",
       "\n",
       "      dropoff_datetime  passenger_count  trip_time_in_secs  trip_distance  \\\n",
       "0  2013-12-01 00:31:00                1               1080           3.90   \n",
       "1  2013-12-01 00:48:00                6                480           3.20   \n",
       "2  2013-12-01 02:30:00                5                540           3.28   \n",
       "3  2013-12-01 02:22:00                1                480           1.84   \n",
       "4  2013-12-01 04:50:00                1                300           1.02   \n",
       "\n",
       "   pickup_longitude  pickup_latitude  dropoff_longitude  dropoff_latitude  \n",
       "0        -73.979340        40.776653         -73.981865         40.734280  \n",
       "1        -73.939674        40.726154         -73.985580         40.718075  \n",
       "2        -73.958755        40.768078         -73.958755         40.768078  \n",
       "3        -73.978836        40.724194         -73.979736         40.743412  \n",
       "4        -73.991364        40.735073         -73.978943         40.734600  "
      ]
     },
     "execution_count": 40,
     "metadata": {},
     "output_type": "execute_result"
    }
   ],
   "source": [
    "trips.head()"
   ]
  },
  {
   "cell_type": "code",
   "execution_count": 41,
   "metadata": {},
   "outputs": [
    {
     "data": {
      "text/plain": [
       "medallion              object\n",
       "hack_license           object\n",
       "vendor_id              object\n",
       "rate_code               int64\n",
       "store_and_fwd_flag     object\n",
       "pickup_datetime        object\n",
       "dropoff_datetime       object\n",
       "passenger_count         int64\n",
       "trip_time_in_secs       int64\n",
       "trip_distance         float64\n",
       "pickup_longitude      float64\n",
       "pickup_latitude       float64\n",
       "dropoff_longitude     float64\n",
       "dropoff_latitude      float64\n",
       "dtype: object"
      ]
     },
     "execution_count": 41,
     "metadata": {},
     "output_type": "execute_result"
    }
   ],
   "source": [
    "trips.dtypes"
   ]
  },
  {
   "cell_type": "code",
   "execution_count": 42,
   "metadata": {},
   "outputs": [
    {
     "data": {
      "text/plain": [
       "rate_code              210\n",
       "passenger_count          9\n",
       "trip_time_in_secs    10800\n",
       "dtype: int64"
      ]
     },
     "execution_count": 42,
     "metadata": {},
     "output_type": "execute_result"
    }
   ],
   "source": [
    "trips[['rate_code', 'passenger_count', 'trip_time_in_secs']].max().compute()"
   ]
  },
  {
   "cell_type": "code",
   "execution_count": 43,
   "metadata": {},
   "outputs": [
    {
     "data": {
      "text/plain": [
       "0    NaN\n",
       "1      N\n",
       "2      Y\n",
       "Name: store_and_fwd_flag, dtype: object"
      ]
     },
     "execution_count": 43,
     "metadata": {},
     "output_type": "execute_result"
    }
   ],
   "source": [
    "trips.store_and_fwd_flag.unique().compute()"
   ]
  },
  {
   "cell_type": "code",
   "execution_count": 44,
   "metadata": {},
   "outputs": [],
   "source": [
    "trips_dtypes = {\n",
    "    \"vendor_id\": \"category\",\n",
    "    \"rate_code\": np.uint8,\n",
    "    \"store_and_fwd_flag\": \"category\",\n",
    "    \"passenger_count\": np.uint32,\n",
    "    \"trip_time_in_secs\": np.uint32\n",
    "}\n",
    "\n",
    "trips_dates = ['pickup_datetime', 'dropoff_datetime']"
   ]
  },
  {
   "cell_type": "code",
   "execution_count": 45,
   "metadata": {},
   "outputs": [],
   "source": [
    "trips = dd.read_csv(\n",
    "    trips_fn, names=trips_cols, header=0, \n",
    "    parse_dates=trips_dates,\n",
    "    dtype=trips_dtypes, infer_datetime_format=True\n",
    ").persist()"
   ]
  },
  {
   "cell_type": "code",
   "execution_count": 46,
   "metadata": {},
   "outputs": [],
   "source": [
    "# calculate divisions for trips\n",
    "trip_divs = sorted(\n",
    "    trips.pickup_datetime.dt.normalize().unique().compute().array)"
   ]
  },
  {
   "cell_type": "code",
   "execution_count": 47,
   "metadata": {},
   "outputs": [],
   "source": [
    "trip_cols = [\n",
    "    'medallion_id', 'hack_license_id',\n",
    "    'rate_code', 'passenger_count', 'trip_time_in_secs', 'trip_distance', \n",
    "    'pickup_longitude', 'pickup_latitude', 'pickup_datetime'\n",
    "]\n",
    "\n",
    "trips = (trips\n",
    "    .merge(medallions, on='medallion')\n",
    "    .merge(hack_license, on='hack_license')\n",
    "    [trip_cols]\n",
    "    .set_index('pickup_datetime', divisions=trip_divs)\n",
    "    .persist())"
   ]
  },
  {
   "cell_type": "code",
   "execution_count": 48,
   "metadata": {},
   "outputs": [
    {
     "data": {
      "text/html": [
       "<div>\n",
       "<style scoped>\n",
       "    .dataframe tbody tr th:only-of-type {\n",
       "        vertical-align: middle;\n",
       "    }\n",
       "\n",
       "    .dataframe tbody tr th {\n",
       "        vertical-align: top;\n",
       "    }\n",
       "\n",
       "    .dataframe thead th {\n",
       "        text-align: right;\n",
       "    }\n",
       "</style>\n",
       "<table border=\"1\" class=\"dataframe\">\n",
       "  <thead>\n",
       "    <tr style=\"text-align: right;\">\n",
       "      <th></th>\n",
       "      <th>medallion_id</th>\n",
       "      <th>hack_license_id</th>\n",
       "      <th>rate_code</th>\n",
       "      <th>passenger_count</th>\n",
       "      <th>trip_time_in_secs</th>\n",
       "      <th>trip_distance</th>\n",
       "      <th>pickup_longitude</th>\n",
       "      <th>pickup_latitude</th>\n",
       "    </tr>\n",
       "    <tr>\n",
       "      <th>pickup_datetime</th>\n",
       "      <th></th>\n",
       "      <th></th>\n",
       "      <th></th>\n",
       "      <th></th>\n",
       "      <th></th>\n",
       "      <th></th>\n",
       "      <th></th>\n",
       "      <th></th>\n",
       "    </tr>\n",
       "  </thead>\n",
       "  <tbody>\n",
       "    <tr>\n",
       "      <th>2013-12-01</th>\n",
       "      <td>2796</td>\n",
       "      <td>4624</td>\n",
       "      <td>1</td>\n",
       "      <td>1</td>\n",
       "      <td>1080</td>\n",
       "      <td>3.57</td>\n",
       "      <td>-73.988686</td>\n",
       "      <td>40.736572</td>\n",
       "    </tr>\n",
       "    <tr>\n",
       "      <th>2013-12-01</th>\n",
       "      <td>3737</td>\n",
       "      <td>12864</td>\n",
       "      <td>1</td>\n",
       "      <td>1</td>\n",
       "      <td>840</td>\n",
       "      <td>3.72</td>\n",
       "      <td>-73.993080</td>\n",
       "      <td>40.762840</td>\n",
       "    </tr>\n",
       "    <tr>\n",
       "      <th>2013-12-01</th>\n",
       "      <td>229</td>\n",
       "      <td>245</td>\n",
       "      <td>1</td>\n",
       "      <td>1</td>\n",
       "      <td>480</td>\n",
       "      <td>1.83</td>\n",
       "      <td>-74.008240</td>\n",
       "      <td>40.726112</td>\n",
       "    </tr>\n",
       "    <tr>\n",
       "      <th>2013-12-01</th>\n",
       "      <td>4622</td>\n",
       "      <td>11904</td>\n",
       "      <td>1</td>\n",
       "      <td>1</td>\n",
       "      <td>1320</td>\n",
       "      <td>6.07</td>\n",
       "      <td>-74.009712</td>\n",
       "      <td>40.722065</td>\n",
       "    </tr>\n",
       "    <tr>\n",
       "      <th>2013-12-01</th>\n",
       "      <td>6620</td>\n",
       "      <td>11716</td>\n",
       "      <td>1</td>\n",
       "      <td>2</td>\n",
       "      <td>600</td>\n",
       "      <td>1.86</td>\n",
       "      <td>-73.992783</td>\n",
       "      <td>40.737125</td>\n",
       "    </tr>\n",
       "  </tbody>\n",
       "</table>\n",
       "</div>"
      ],
      "text/plain": [
       "                 medallion_id  hack_license_id  rate_code  passenger_count  \\\n",
       "pickup_datetime                                                              \n",
       "2013-12-01               2796             4624          1                1   \n",
       "2013-12-01               3737            12864          1                1   \n",
       "2013-12-01                229              245          1                1   \n",
       "2013-12-01               4622            11904          1                1   \n",
       "2013-12-01               6620            11716          1                2   \n",
       "\n",
       "                 trip_time_in_secs  trip_distance  pickup_longitude  \\\n",
       "pickup_datetime                                                       \n",
       "2013-12-01                    1080           3.57        -73.988686   \n",
       "2013-12-01                     840           3.72        -73.993080   \n",
       "2013-12-01                     480           1.83        -74.008240   \n",
       "2013-12-01                    1320           6.07        -74.009712   \n",
       "2013-12-01                     600           1.86        -73.992783   \n",
       "\n",
       "                 pickup_latitude  \n",
       "pickup_datetime                   \n",
       "2013-12-01             40.736572  \n",
       "2013-12-01             40.762840  \n",
       "2013-12-01             40.726112  \n",
       "2013-12-01             40.722065  \n",
       "2013-12-01             40.737125  "
      ]
     },
     "execution_count": 48,
     "metadata": {},
     "output_type": "execute_result"
    }
   ],
   "source": [
    "trips.head()"
   ]
  },
  {
   "cell_type": "code",
   "execution_count": 51,
   "metadata": {},
   "outputs": [],
   "source": [
    "fares3 = dd.read_parquet(fares_fout, columns=[\"medallion_id\"]).persist()\n",
    "trips2 = dd.merge(\n",
    "    trips, fares3, on=[\"pickup_datetime\", \"medallion_id\"]).persist()"
   ]
  },
  {
   "cell_type": "code",
   "execution_count": 52,
   "metadata": {},
   "outputs": [
    {
     "data": {
      "text/plain": [
       "349278"
      ]
     },
     "execution_count": 52,
     "metadata": {},
     "output_type": "execute_result"
    }
   ],
   "source": [
    "len(trips2)"
   ]
  },
  {
   "cell_type": "code",
   "execution_count": 53,
   "metadata": {},
   "outputs": [
    {
     "data": {
      "text/html": [
       "<div>\n",
       "<style scoped>\n",
       "    .dataframe tbody tr th:only-of-type {\n",
       "        vertical-align: middle;\n",
       "    }\n",
       "\n",
       "    .dataframe tbody tr th {\n",
       "        vertical-align: top;\n",
       "    }\n",
       "\n",
       "    .dataframe thead th {\n",
       "        text-align: right;\n",
       "    }\n",
       "</style>\n",
       "<table border=\"1\" class=\"dataframe\">\n",
       "  <thead>\n",
       "    <tr style=\"text-align: right;\">\n",
       "      <th></th>\n",
       "      <th>medallion_id</th>\n",
       "      <th>hack_license_id</th>\n",
       "      <th>rate_code</th>\n",
       "      <th>passenger_count</th>\n",
       "      <th>trip_time_in_secs</th>\n",
       "      <th>trip_distance</th>\n",
       "      <th>pickup_longitude</th>\n",
       "      <th>pickup_latitude</th>\n",
       "    </tr>\n",
       "    <tr>\n",
       "      <th>pickup_datetime</th>\n",
       "      <th></th>\n",
       "      <th></th>\n",
       "      <th></th>\n",
       "      <th></th>\n",
       "      <th></th>\n",
       "      <th></th>\n",
       "      <th></th>\n",
       "      <th></th>\n",
       "    </tr>\n",
       "  </thead>\n",
       "  <tbody>\n",
       "    <tr>\n",
       "      <th>2013-12-01 00:00:00</th>\n",
       "      <td>3306</td>\n",
       "      <td>9702</td>\n",
       "      <td>1</td>\n",
       "      <td>1</td>\n",
       "      <td>360</td>\n",
       "      <td>2.07</td>\n",
       "      <td>-73.988358</td>\n",
       "      <td>40.723461</td>\n",
       "    </tr>\n",
       "    <tr>\n",
       "      <th>2013-12-01 00:00:00</th>\n",
       "      <td>3540</td>\n",
       "      <td>6736</td>\n",
       "      <td>1</td>\n",
       "      <td>1</td>\n",
       "      <td>300</td>\n",
       "      <td>1.21</td>\n",
       "      <td>-73.947563</td>\n",
       "      <td>40.784515</td>\n",
       "    </tr>\n",
       "    <tr>\n",
       "      <th>2013-12-01 00:00:00</th>\n",
       "      <td>5986</td>\n",
       "      <td>14096</td>\n",
       "      <td>1</td>\n",
       "      <td>3</td>\n",
       "      <td>840</td>\n",
       "      <td>3.85</td>\n",
       "      <td>-73.999901</td>\n",
       "      <td>40.728611</td>\n",
       "    </tr>\n",
       "    <tr>\n",
       "      <th>2013-12-01 00:00:07</th>\n",
       "      <td>8899</td>\n",
       "      <td>18541</td>\n",
       "      <td>1</td>\n",
       "      <td>2</td>\n",
       "      <td>333</td>\n",
       "      <td>1.20</td>\n",
       "      <td>-73.951279</td>\n",
       "      <td>40.772842</td>\n",
       "    </tr>\n",
       "    <tr>\n",
       "      <th>2013-12-01 00:00:08</th>\n",
       "      <td>7171</td>\n",
       "      <td>15110</td>\n",
       "      <td>1</td>\n",
       "      <td>1</td>\n",
       "      <td>331</td>\n",
       "      <td>1.00</td>\n",
       "      <td>-73.996834</td>\n",
       "      <td>40.753414</td>\n",
       "    </tr>\n",
       "  </tbody>\n",
       "</table>\n",
       "</div>"
      ],
      "text/plain": [
       "                     medallion_id  hack_license_id  rate_code  \\\n",
       "pickup_datetime                                                 \n",
       "2013-12-01 00:00:00          3306             9702          1   \n",
       "2013-12-01 00:00:00          3540             6736          1   \n",
       "2013-12-01 00:00:00          5986            14096          1   \n",
       "2013-12-01 00:00:07          8899            18541          1   \n",
       "2013-12-01 00:00:08          7171            15110          1   \n",
       "\n",
       "                     passenger_count  trip_time_in_secs  trip_distance  \\\n",
       "pickup_datetime                                                          \n",
       "2013-12-01 00:00:00                1                360           2.07   \n",
       "2013-12-01 00:00:00                1                300           1.21   \n",
       "2013-12-01 00:00:00                3                840           3.85   \n",
       "2013-12-01 00:00:07                2                333           1.20   \n",
       "2013-12-01 00:00:08                1                331           1.00   \n",
       "\n",
       "                     pickup_longitude  pickup_latitude  \n",
       "pickup_datetime                                         \n",
       "2013-12-01 00:00:00        -73.988358        40.723461  \n",
       "2013-12-01 00:00:00        -73.947563        40.784515  \n",
       "2013-12-01 00:00:00        -73.999901        40.728611  \n",
       "2013-12-01 00:00:07        -73.951279        40.772842  \n",
       "2013-12-01 00:00:08        -73.996834        40.753414  "
      ]
     },
     "execution_count": 53,
     "metadata": {},
     "output_type": "execute_result"
    }
   ],
   "source": [
    "trips2.head()"
   ]
  },
  {
   "cell_type": "code",
   "execution_count": 54,
   "metadata": {},
   "outputs": [],
   "source": [
    "assert trips2.known_divisions"
   ]
  },
  {
   "cell_type": "code",
   "execution_count": 56,
   "metadata": {},
   "outputs": [],
   "source": [
    "trips_fout = \"data/taxi-small/trips.parq\"\n",
    "trips2.to_parquet(trips_fout, compression=\"brotli\")"
   ]
  },
  {
   "cell_type": "code",
   "execution_count": 57,
   "metadata": {},
   "outputs": [],
   "source": [
    "client.close()"
   ]
  }
 ],
 "metadata": {
  "kernelspec": {
   "display_name": "Python 3",
   "language": "python",
   "name": "python3"
  },
  "language_info": {
   "codemirror_mode": {
    "name": "ipython",
    "version": 3
   },
   "file_extension": ".py",
   "mimetype": "text/x-python",
   "name": "python",
   "nbconvert_exporter": "python",
   "pygments_lexer": "ipython3",
   "version": "3.8.2"
  },
  "toc": {
   "base_numbering": 1,
   "nav_menu": {},
   "number_sections": false,
   "sideBar": true,
   "skip_h1_title": true,
   "title_cell": "Table of Contents",
   "title_sidebar": "Contents",
   "toc_cell": false,
   "toc_position": {},
   "toc_section_display": true,
   "toc_window_display": false
  }
 },
 "nbformat": 4,
 "nbformat_minor": 4
}
