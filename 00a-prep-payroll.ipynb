{
 "cells": [
  {
   "cell_type": "markdown",
   "metadata": {},
   "source": [
    "Prep the "
   ]
  },
  {
   "cell_type": "code",
   "execution_count": 15,
   "metadata": {},
   "outputs": [],
   "source": [
    "from pathlib import Path\n",
    "\n",
    "import dask\n",
    "import dask.dataframe as dd\n",
    "import numpy as np\n",
    "import pandas as pd\n",
    "from dask import delayed\n",
    "from dask.distributed import Client"
   ]
  },
  {
   "cell_type": "code",
   "execution_count": 2,
   "metadata": {},
   "outputs": [],
   "source": [
    "client = Client()"
   ]
  },
  {
   "cell_type": "code",
   "execution_count": 3,
   "metadata": {
    "slideshow": {
     "slide_type": "fragment"
    }
   },
   "outputs": [],
   "source": [
    "payroll_path = Path(\"data/nyc_payroll.csv\")\n",
    "\n",
    "# fiscal_year_cat = pd.CategoricalDtype(np.arange(2014, 2020), ordered=True)\n",
    "\n",
    "pay_dtypes = {\n",
    "    'fiscal_year': \"int16\",\n",
    "    'payroll_number': None,\n",
    "    'agency_name': 'category',\n",
    "    'last_name': None,\n",
    "    'first_name': None,\n",
    "    'mid_init': None,\n",
    "    'agency_start_date': object,\n",
    "    'work_location_borough': 'category',\n",
    "    'title_description': 'category',\n",
    "    'leave_status_as_of_june_30': 'category',\n",
    "    'base_salary': 'float64',\n",
    "    'pay_basis': 'category',\n",
    "    'regular_hours': 'float64',\n",
    "    'regular_gross_paid': 'float64',\n",
    "    'ot_hours': 'float64',\n",
    "    'total_ot_paid': 'float64',\n",
    "    'total_other_pay': 'float64',\n",
    "    }\n",
    "\n",
    "date_cols = ['agency_start_date']\n",
    "\n",
    "all_cols = list(k for k,v in pay_dtypes.items() if v is not None)"
   ]
  },
  {
   "cell_type": "code",
   "execution_count": null,
   "metadata": {},
   "outputs": [],
   "source": [
    "# pd.read_csv"
   ]
  },
  {
   "cell_type": "code",
   "execution_count": 4,
   "metadata": {
    "slideshow": {
     "slide_type": "slide"
    }
   },
   "outputs": [],
   "source": [
    "pay = dd.read_csv(\n",
    "    str(payroll_path), \n",
    "    dtype=pay_dtypes,\n",
    "    usecols=all_cols\n",
    ").persist()"
   ]
  },
  {
   "cell_type": "code",
   "execution_count": 5,
   "metadata": {},
   "outputs": [],
   "source": [
    "def convert_stdt(df):\n",
    "    return df.assign(\n",
    "        agency_start_date=pd.to_datetime(\n",
    "            df[\"agency_start_date\"], errors=\"coerce\", format=\"%m/%d/%Y\")\n",
    "        )\n",
    "\n",
    "pay2 = pay.map_partitions(convert_stdt).persist()"
   ]
  },
  {
   "cell_type": "code",
   "execution_count": 6,
   "metadata": {},
   "outputs": [
    {
     "data": {
      "text/plain": [
       "[2014, 2015, 2016, 2017, 2018, 2019]"
      ]
     },
     "execution_count": 6,
     "metadata": {},
     "output_type": "execute_result"
    }
   ],
   "source": [
    "years = sorted(pay2.fiscal_year.unique().compute())\n",
    "years"
   ]
  },
  {
   "cell_type": "code",
   "execution_count": 19,
   "metadata": {},
   "outputs": [
    {
     "data": {
      "text/plain": [
       "([None], [None], [None], [None], [None], [None])"
      ]
     },
     "execution_count": 19,
     "metadata": {},
     "output_type": "execute_result"
    }
   ],
   "source": [
    "tasks = []\n",
    "for year in years:\n",
    "    yr = pay2.loc[pay2.fiscal_year == year, :]\n",
    "    yr2 = yr.sample(frac=0.05)\n",
    "    yr_out = yr2.to_csv(f\"data/payroll-small/payroll_{year}.csv\", single_file=True, index=False, compute=False)\n",
    "    tasks.append(yr_out)\n",
    "    \n",
    "dask.compute(*tasks)"
   ]
  },
  {
   "cell_type": "code",
   "execution_count": null,
   "metadata": {},
   "outputs": [],
   "source": [
    "pd.DataFrame.to_csv()"
   ]
  },
  {
   "cell_type": "code",
   "execution_count": null,
   "metadata": {},
   "outputs": [],
   "source": [
    "pay3 = pay2.set_index(\"fiscal_year\").repartition(freq=\"1Y\").persist()"
   ]
  },
  {
   "cell_type": "code",
   "execution_count": null,
   "metadata": {},
   "outputs": [],
   "source": [
    "pay3.divisions"
   ]
  },
  {
   "cell_type": "code",
   "execution_count": null,
   "metadata": {},
   "outputs": [],
   "source": [
    "pay3.npartitions"
   ]
  },
  {
   "cell_type": "code",
   "execution_count": null,
   "metadata": {},
   "outputs": [],
   "source": [
    "pay4 = pay2.map_partitions(\n",
    "    lambda df: df.sample(frac=.05)).persist()"
   ]
  },
  {
   "cell_type": "code",
   "execution_count": null,
   "metadata": {},
   "outputs": [],
   "source": [
    "pay4.to_parquet(\"data/payroll-small/payroll.parq\", compression=\"zstd\")"
   ]
  },
  {
   "cell_type": "code",
   "execution_count": null,
   "metadata": {},
   "outputs": [],
   "source": [
    "def convert_stdt(df):\n",
    "    return df.assign(agency_start_date=pd.to_datetime(\n",
    "        df[\"agency_start_date\"], errors=\"coerce\", format=\"%m/%d/%Y\"))\n",
    "\n",
    "pay = pay.map_partitions(convert_stdt).persist()"
   ]
  },
  {
   "cell_type": "code",
   "execution_count": null,
   "metadata": {},
   "outputs": [],
   "source": [
    "pay = pay.persist()"
   ]
  }
 ],
 "metadata": {
  "kernelspec": {
   "display_name": "Python 3",
   "language": "python",
   "name": "python3"
  },
  "language_info": {
   "codemirror_mode": {
    "name": "ipython",
    "version": 3
   },
   "file_extension": ".py",
   "mimetype": "text/x-python",
   "name": "python",
   "nbconvert_exporter": "python",
   "pygments_lexer": "ipython3",
   "version": "3.8.2"
  }
 },
 "nbformat": 4,
 "nbformat_minor": 4
}
