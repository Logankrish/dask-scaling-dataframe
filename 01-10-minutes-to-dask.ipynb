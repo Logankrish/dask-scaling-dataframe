{
 "cells": [
  {
   "cell_type": "markdown",
   "metadata": {},
   "source": [
    "# Training Overview\n",
    "* 10 Minutes to Dask\n",
    "* Why Dask?\n",
    "* Dask APIs"
   ]
  },
  {
   "cell_type": "markdown",
   "metadata": {},
   "source": [
    "# 10 minutes to Dask"
   ]
  },
  {
   "cell_type": "markdown",
   "metadata": {},
   "source": [
    "* Use the Dask Dataframe API\n",
    "* View the task graph\n",
    "* View the distributed dashboard"
   ]
  },
  {
   "cell_type": "code",
   "execution_count": 1,
   "metadata": {},
   "outputs": [
    {
     "data": {
      "text/html": [
       "<table style=\"border: 2px solid white;\">\n",
       "<tr>\n",
       "<td style=\"vertical-align: top; border: 0px solid white\">\n",
       "<h3 style=\"text-align: left;\">Client</h3>\n",
       "<ul style=\"text-align: left; list-style: none; margin: 0; padding: 0;\">\n",
       "  <li><b>Scheduler: </b>tcp://127.0.0.1:51084</li>\n",
       "  <li><b>Dashboard: </b><a href='http://127.0.0.1:8787/status' target='_blank'>http://127.0.0.1:8787/status</a></li>\n",
       "</ul>\n",
       "</td>\n",
       "<td style=\"vertical-align: top; border: 0px solid white\">\n",
       "<h3 style=\"text-align: left;\">Cluster</h3>\n",
       "<ul style=\"text-align: left; list-style:none; margin: 0; padding: 0;\">\n",
       "  <li><b>Workers: </b>4</li>\n",
       "  <li><b>Cores: </b>8</li>\n",
       "  <li><b>Memory: </b>17.18 GB</li>\n",
       "</ul>\n",
       "</td>\n",
       "</tr>\n",
       "</table>"
      ],
      "text/plain": [
       "<Client: 'tcp://127.0.0.1:51084' processes=4 threads=8, memory=17.18 GB>"
      ]
     },
     "execution_count": 1,
     "metadata": {},
     "output_type": "execute_result"
    }
   ],
   "source": [
    "from dask.distributed import Client\n",
    "client = Client()\n",
    "client"
   ]
  },
  {
   "cell_type": "markdown",
   "metadata": {},
   "source": [
    "* Using the `distributed` scheduler\n",
    "* We'll discuss later scheduler options later\n",
    "* Creating a `Client` starts one on your local machine"
   ]
  },
  {
   "cell_type": "code",
   "execution_count": 2,
   "metadata": {},
   "outputs": [],
   "source": [
    "import pandas as pd\n",
    "import dask.dataframe as dd"
   ]
  },
  {
   "cell_type": "markdown",
   "metadata": {},
   "source": [
    "Manually set the types here to minimize memory usage"
   ]
  },
  {
   "cell_type": "code",
   "execution_count": 3,
   "metadata": {},
   "outputs": [],
   "source": [
    "pay_dtypes = {\n",
    "    'fiscal_year': 'Int16',\n",
    "    'payroll_number': None,\n",
    "    'agency_name': 'category',\n",
    "    'last_name': None,\n",
    "    'first_name': None,\n",
    "    'mid_init': None,\n",
    "    'agency_start_date': object,\n",
    "    'work_location_borough': 'category',\n",
    "    'title_description': 'category',\n",
    "    'leave_status_as_of_june_30': 'category',\n",
    "    'base_salary': 'float64',\n",
    "    'pay_basis': 'category',\n",
    "    'regular_hours': 'float64',\n",
    "    'regular_gross_paid': 'float64',\n",
    "    'ot_hours': 'float64',\n",
    "    'total_ot_paid': 'float64',\n",
    "    'total_other_pay': 'float64',\n",
    "    }\n",
    "\n",
    "date_cols = ['agency_start_date']\n",
    "\n",
    "all_cols = list(k for k,v in pay_dtypes.items() if v is not None)"
   ]
  },
  {
   "cell_type": "code",
   "execution_count": 4,
   "metadata": {},
   "outputs": [],
   "source": [
    "pay = dd.read_csv(\n",
    "    'nyc_payroll.csv', \n",
    "    dtype=pay_dtypes,\n",
    "    usecols=all_cols,\n",
    "    blocksize=200_000_000 # so we have 3 partitions\n",
    ")"
   ]
  },
  {
   "cell_type": "markdown",
   "metadata": {},
   "source": [
    "To see all the arguments to dd.read_csv, use documentation for `pd.read_csv`"
   ]
  },
  {
   "cell_type": "code",
   "execution_count": 5,
   "metadata": {},
   "outputs": [],
   "source": [
    "# ?pd.read_csv"
   ]
  },
  {
   "cell_type": "code",
   "execution_count": 6,
   "metadata": {},
   "outputs": [],
   "source": [
    "# dat = pd.read_csv('nyc_payroll.csv', low_memory=False)\n",
    "# cols = [x.lower().replace(' ', '_') for x in list(dat.columns)]\n",
    "# dat.columns = cols\n",
    "# dat.to_csv('nyc_payroll.csv', index=False)"
   ]
  },
  {
   "cell_type": "code",
   "execution_count": 7,
   "metadata": {},
   "outputs": [
    {
     "data": {
      "text/plain": [
       "fiscal_year                      Int16\n",
       "agency_name                   category\n",
       "agency_start_date               object\n",
       "work_location_borough         category\n",
       "title_description             category\n",
       "leave_status_as_of_june_30    category\n",
       "base_salary                    float64\n",
       "pay_basis                     category\n",
       "regular_hours                  float64\n",
       "regular_gross_paid             float64\n",
       "ot_hours                       float64\n",
       "total_ot_paid                  float64\n",
       "total_other_pay                float64\n",
       "dtype: object"
      ]
     },
     "execution_count": 7,
     "metadata": {},
     "output_type": "execute_result"
    }
   ],
   "source": [
    "pay.dtypes"
   ]
  },
  {
   "cell_type": "code",
   "execution_count": 8,
   "metadata": {},
   "outputs": [
    {
     "data": {
      "text/html": [
       "<div>\n",
       "<style scoped>\n",
       "    .dataframe tbody tr th:only-of-type {\n",
       "        vertical-align: middle;\n",
       "    }\n",
       "\n",
       "    .dataframe tbody tr th {\n",
       "        vertical-align: top;\n",
       "    }\n",
       "\n",
       "    .dataframe thead th {\n",
       "        text-align: right;\n",
       "    }\n",
       "</style>\n",
       "<table border=\"1\" class=\"dataframe\">\n",
       "  <thead>\n",
       "    <tr style=\"text-align: right;\">\n",
       "      <th></th>\n",
       "      <th>fiscal_year</th>\n",
       "      <th>agency_name</th>\n",
       "      <th>agency_start_date</th>\n",
       "      <th>work_location_borough</th>\n",
       "      <th>title_description</th>\n",
       "      <th>leave_status_as_of_june_30</th>\n",
       "      <th>base_salary</th>\n",
       "      <th>pay_basis</th>\n",
       "      <th>regular_hours</th>\n",
       "      <th>regular_gross_paid</th>\n",
       "      <th>ot_hours</th>\n",
       "      <th>total_ot_paid</th>\n",
       "      <th>total_other_pay</th>\n",
       "    </tr>\n",
       "  </thead>\n",
       "  <tbody>\n",
       "    <tr>\n",
       "      <th>0</th>\n",
       "      <td>2016</td>\n",
       "      <td>DISTRICT ATTORNEY-MANHATTAN</td>\n",
       "      <td>07/14/2003</td>\n",
       "      <td>MANHATTAN</td>\n",
       "      <td>COMMUNITY ASSOCIATE</td>\n",
       "      <td>ACTIVE</td>\n",
       "      <td>47678.0</td>\n",
       "      <td>per Annum</td>\n",
       "      <td>1830.00</td>\n",
       "      <td>47166.03</td>\n",
       "      <td>2.25</td>\n",
       "      <td>57.28</td>\n",
       "      <td>0.0</td>\n",
       "    </tr>\n",
       "    <tr>\n",
       "      <th>1</th>\n",
       "      <td>2016</td>\n",
       "      <td>DISTRICT ATTORNEY-MANHATTAN</td>\n",
       "      <td>06/12/1995</td>\n",
       "      <td>MANHATTAN</td>\n",
       "      <td>ADMINISTRATIVE ACCOUNTANT</td>\n",
       "      <td>ACTIVE</td>\n",
       "      <td>119959.0</td>\n",
       "      <td>per Annum</td>\n",
       "      <td>1831.00</td>\n",
       "      <td>119042.50</td>\n",
       "      <td>0.00</td>\n",
       "      <td>0.00</td>\n",
       "      <td>0.0</td>\n",
       "    </tr>\n",
       "    <tr>\n",
       "      <th>2</th>\n",
       "      <td>2016</td>\n",
       "      <td>DISTRICT ATTORNEY-MANHATTAN</td>\n",
       "      <td>10/11/2011</td>\n",
       "      <td>MANHATTAN</td>\n",
       "      <td>COMMUNITY ASSOCIATE</td>\n",
       "      <td>ON LEAVE</td>\n",
       "      <td>39966.0</td>\n",
       "      <td>per Annum</td>\n",
       "      <td>1181.68</td>\n",
       "      <td>27452.62</td>\n",
       "      <td>1.00</td>\n",
       "      <td>21.34</td>\n",
       "      <td>33.0</td>\n",
       "    </tr>\n",
       "    <tr>\n",
       "      <th>3</th>\n",
       "      <td>2016</td>\n",
       "      <td>DISTRICT ATTORNEY-MANHATTAN</td>\n",
       "      <td>12/01/2014</td>\n",
       "      <td>MANHATTAN</td>\n",
       "      <td>COMPUTER SYSTEMS MANAGER</td>\n",
       "      <td>ACTIVE</td>\n",
       "      <td>116000.0</td>\n",
       "      <td>per Annum</td>\n",
       "      <td>1831.00</td>\n",
       "      <td>115104.57</td>\n",
       "      <td>0.00</td>\n",
       "      <td>0.00</td>\n",
       "      <td>0.0</td>\n",
       "    </tr>\n",
       "    <tr>\n",
       "      <th>4</th>\n",
       "      <td>2016</td>\n",
       "      <td>DISTRICT ATTORNEY-MANHATTAN</td>\n",
       "      <td>05/21/2015</td>\n",
       "      <td>MANHATTAN</td>\n",
       "      <td>COLLEGE AIDE</td>\n",
       "      <td>CEASED</td>\n",
       "      <td>1.0</td>\n",
       "      <td>per Hour</td>\n",
       "      <td>0.00</td>\n",
       "      <td>3500.00</td>\n",
       "      <td>0.00</td>\n",
       "      <td>0.00</td>\n",
       "      <td>0.0</td>\n",
       "    </tr>\n",
       "  </tbody>\n",
       "</table>\n",
       "</div>"
      ],
      "text/plain": [
       "   fiscal_year                  agency_name agency_start_date  \\\n",
       "0         2016  DISTRICT ATTORNEY-MANHATTAN        07/14/2003   \n",
       "1         2016  DISTRICT ATTORNEY-MANHATTAN        06/12/1995   \n",
       "2         2016  DISTRICT ATTORNEY-MANHATTAN        10/11/2011   \n",
       "3         2016  DISTRICT ATTORNEY-MANHATTAN        12/01/2014   \n",
       "4         2016  DISTRICT ATTORNEY-MANHATTAN        05/21/2015   \n",
       "\n",
       "  work_location_borough          title_description leave_status_as_of_june_30  \\\n",
       "0             MANHATTAN        COMMUNITY ASSOCIATE                     ACTIVE   \n",
       "1             MANHATTAN  ADMINISTRATIVE ACCOUNTANT                     ACTIVE   \n",
       "2             MANHATTAN        COMMUNITY ASSOCIATE                   ON LEAVE   \n",
       "3             MANHATTAN   COMPUTER SYSTEMS MANAGER                     ACTIVE   \n",
       "4             MANHATTAN               COLLEGE AIDE                     CEASED   \n",
       "\n",
       "   base_salary  pay_basis  regular_hours  regular_gross_paid  ot_hours  \\\n",
       "0      47678.0  per Annum        1830.00            47166.03      2.25   \n",
       "1     119959.0  per Annum        1831.00           119042.50      0.00   \n",
       "2      39966.0  per Annum        1181.68            27452.62      1.00   \n",
       "3     116000.0  per Annum        1831.00           115104.57      0.00   \n",
       "4          1.0   per Hour           0.00             3500.00      0.00   \n",
       "\n",
       "   total_ot_paid  total_other_pay  \n",
       "0          57.28              0.0  \n",
       "1           0.00              0.0  \n",
       "2          21.34             33.0  \n",
       "3           0.00              0.0  \n",
       "4           0.00              0.0  "
      ]
     },
     "execution_count": 8,
     "metadata": {},
     "output_type": "execute_result"
    }
   ],
   "source": [
    "pay.head()"
   ]
  },
  {
   "cell_type": "markdown",
   "metadata": {},
   "source": [
    "Dask operates on a task graph that has not yet been executed"
   ]
  },
  {
   "cell_type": "code",
   "execution_count": 9,
   "metadata": {},
   "outputs": [
    {
     "data": {
      "image/png": "[encoded data removed]",
      "text/plain": [
       "<IPython.core.display.Image object>"
      ]
     },
     "execution_count": 9,
     "metadata": {},
     "output_type": "execute_result"
    }
   ],
   "source": [
    "pay.visualize()"
   ]
  },
  {
   "cell_type": "code",
   "execution_count": 10,
   "metadata": {},
   "outputs": [
    {
     "data": {
      "text/plain": [
       "3"
      ]
     },
     "execution_count": 10,
     "metadata": {},
     "output_type": "execute_result"
    }
   ],
   "source": [
    "pay.npartitions"
   ]
  },
  {
   "cell_type": "markdown",
   "metadata": {},
   "source": [
    "Number of partitions is based on the number of blocks"
   ]
  },
  {
   "cell_type": "code",
   "execution_count": 11,
   "metadata": {},
   "outputs": [
    {
     "data": {
      "text/plain": [
       "4719"
      ]
     },
     "execution_count": 11,
     "metadata": {},
     "output_type": "execute_result"
    }
   ],
   "source": [
    "# Use more partitions at home\n",
    "dd.read_csv(\n",
    "    'nyc_payroll.csv', \n",
    "    dtype=pay_dtypes,\n",
    "    usecols=all_cols,\n",
    "    blocksize=100_000\n",
    ").npartitions"
   ]
  },
  {
   "cell_type": "code",
   "execution_count": 12,
   "metadata": {},
   "outputs": [
    {
     "name": "stdout",
     "output_type": "stream",
     "text": [
      "CPU times: user 131 ms, sys: 16 ms, total: 147 ms\n",
      "Wall time: 4.08 s\n"
     ]
    },
    {
     "data": {
      "text/plain": [
       "352763.0"
      ]
     },
     "execution_count": 12,
     "metadata": {},
     "output_type": "execute_result"
    }
   ],
   "source": [
    "%time pay['base_salary'].max().compute()"
   ]
  },
  {
   "cell_type": "markdown",
   "metadata": {},
   "source": [
    "## Dask operates out-of-memory by default\n",
    "* Once we've run, data not persisted\n",
    "* Need to reread the data from disk"
   ]
  },
  {
   "cell_type": "code",
   "execution_count": 13,
   "metadata": {},
   "outputs": [
    {
     "data": {
      "image/png": "[encoded data removed]",
      "text/plain": [
       "<IPython.core.display.Image object>"
      ]
     },
     "execution_count": 13,
     "metadata": {},
     "output_type": "execute_result"
    }
   ],
   "source": [
    "pay['base_salary'].max().visualize()"
   ]
  },
  {
   "cell_type": "code",
   "execution_count": 14,
   "metadata": {},
   "outputs": [],
   "source": [
    "# setting the index will cause compute unless\n",
    "# we know the divisions and the data is already sorted\n",
    "pay = pay.persist()"
   ]
  },
  {
   "cell_type": "code",
   "execution_count": 15,
   "metadata": {},
   "outputs": [
    {
     "data": {
      "image/png": "[encoded data removed]",
      "text/plain": [
       "<IPython.core.display.Image object>"
      ]
     },
     "execution_count": 15,
     "metadata": {},
     "output_type": "execute_result"
    }
   ],
   "source": [
    "pay.visualize()"
   ]
  },
  {
   "cell_type": "code",
   "execution_count": 16,
   "metadata": {},
   "outputs": [
    {
     "name": "stdout",
     "output_type": "stream",
     "text": [
      "CPU times: user 112 ms, sys: 16.2 ms, total: 128 ms\n",
      "Wall time: 3.68 s\n"
     ]
    },
    {
     "data": {
      "text/plain": [
       "352763.0"
      ]
     },
     "execution_count": 16,
     "metadata": {},
     "output_type": "execute_result"
    }
   ],
   "source": [
    "%time pay['base_salary'].max().compute()"
   ]
  },
  {
   "cell_type": "markdown",
   "metadata": {},
   "source": [
    "## Compare to using base `pandas`"
   ]
  },
  {
   "cell_type": "code",
   "execution_count": 17,
   "metadata": {},
   "outputs": [
    {
     "name": "stdout",
     "output_type": "stream",
     "text": [
      "CPU times: user 7.78 s, sys: 472 ms, total: 8.25 s\n",
      "Wall time: 8.2 s\n"
     ]
    },
    {
     "data": {
      "text/plain": [
       "352763.0"
      ]
     },
     "execution_count": 17,
     "metadata": {},
     "output_type": "execute_result"
    }
   ],
   "source": [
    "%%time\n",
    "\n",
    "pay_pd = pd.read_csv(\n",
    "    'nyc_payroll.csv', \n",
    "    dtype=pay_dtypes,\n",
    "    usecols=all_cols,\n",
    ")\n",
    "pay_pd['base_salary'].max()"
   ]
  },
  {
   "cell_type": "markdown",
   "metadata": {},
   "source": [
    "Once data is in memory, distributed solution is slower"
   ]
  },
  {
   "cell_type": "code",
   "execution_count": 18,
   "metadata": {},
   "outputs": [
    {
     "name": "stdout",
     "output_type": "stream",
     "text": [
      "CPU times: user 13.2 ms, sys: 2.43 ms, total: 15.6 ms\n",
      "Wall time: 12 ms\n"
     ]
    },
    {
     "data": {
      "text/plain": [
       "352763.0"
      ]
     },
     "execution_count": 18,
     "metadata": {},
     "output_type": "execute_result"
    }
   ],
   "source": [
    "%time pay_pd['base_salary'].max()"
   ]
  },
  {
   "cell_type": "code",
   "execution_count": 19,
   "metadata": {},
   "outputs": [
    {
     "data": {
      "text/html": [
       "<table style=\"border: 2px solid white;\">\n",
       "<tr>\n",
       "<td style=\"vertical-align: top; border: 0px solid white\">\n",
       "<h3 style=\"text-align: left;\">Client</h3>\n",
       "<ul style=\"text-align: left; list-style: none; margin: 0; padding: 0;\">\n",
       "  <li><b>Scheduler: </b>tcp://127.0.0.1:51084</li>\n",
       "  <li><b>Dashboard: </b><a href='http://127.0.0.1:8787/status' target='_blank'>http://127.0.0.1:8787/status</a></li>\n",
       "</ul>\n",
       "</td>\n",
       "<td style=\"vertical-align: top; border: 0px solid white\">\n",
       "<h3 style=\"text-align: left;\">Cluster</h3>\n",
       "<ul style=\"text-align: left; list-style:none; margin: 0; padding: 0;\">\n",
       "  <li><b>Workers: </b>4</li>\n",
       "  <li><b>Cores: </b>8</li>\n",
       "  <li><b>Memory: </b>17.18 GB</li>\n",
       "</ul>\n",
       "</td>\n",
       "</tr>\n",
       "</table>"
      ],
      "text/plain": [
       "<Client: 'tcp://127.0.0.1:51084' processes=4 threads=8, memory=17.18 GB>"
      ]
     },
     "execution_count": 19,
     "metadata": {},
     "output_type": "execute_result"
    }
   ],
   "source": [
    "client"
   ]
  },
  {
   "cell_type": "markdown",
   "metadata": {},
   "source": [
    "## Dask Distributed Dashboard"
   ]
  },
  {
   "cell_type": "code",
   "execution_count": 20,
   "metadata": {},
   "outputs": [],
   "source": [
    "grp = pay.groupby('work_location_borough')"
   ]
  },
  {
   "cell_type": "code",
   "execution_count": 22,
   "metadata": {},
   "outputs": [
    {
     "data": {
      "text/html": [
       "<div>\n",
       "<style scoped>\n",
       "    .dataframe tbody tr th:only-of-type {\n",
       "        vertical-align: middle;\n",
       "    }\n",
       "\n",
       "    .dataframe tbody tr th {\n",
       "        vertical-align: top;\n",
       "    }\n",
       "\n",
       "    .dataframe thead th {\n",
       "        text-align: right;\n",
       "    }\n",
       "</style>\n",
       "<table border=\"1\" class=\"dataframe\">\n",
       "  <thead>\n",
       "    <tr style=\"text-align: right;\">\n",
       "      <th></th>\n",
       "      <th>mean</th>\n",
       "      <th>size</th>\n",
       "    </tr>\n",
       "    <tr>\n",
       "      <th>work_location_borough</th>\n",
       "      <th></th>\n",
       "      <th></th>\n",
       "    </tr>\n",
       "  </thead>\n",
       "  <tbody>\n",
       "    <tr>\n",
       "      <th>BRONX</th>\n",
       "      <td>47171.360681</td>\n",
       "      <td>149190</td>\n",
       "    </tr>\n",
       "    <tr>\n",
       "      <th>BROOKLYN</th>\n",
       "      <td>50890.928742</td>\n",
       "      <td>270114</td>\n",
       "    </tr>\n",
       "    <tr>\n",
       "      <th>MANHATTAN</th>\n",
       "      <td>37865.767834</td>\n",
       "      <td>1973648</td>\n",
       "    </tr>\n",
       "    <tr>\n",
       "      <th>OTHER</th>\n",
       "      <td>108812.605680</td>\n",
       "      <td>71698</td>\n",
       "    </tr>\n",
       "    <tr>\n",
       "      <th>QUEENS</th>\n",
       "      <td>50289.966593</td>\n",
       "      <td>314273</td>\n",
       "    </tr>\n",
       "    <tr>\n",
       "      <th>RICHMOND</th>\n",
       "      <td>52540.433670</td>\n",
       "      <td>38231</td>\n",
       "    </tr>\n",
       "    <tr>\n",
       "      <th>ALBANY</th>\n",
       "      <td>66348.303243</td>\n",
       "      <td>74</td>\n",
       "    </tr>\n",
       "    <tr>\n",
       "      <th>DELAWARE</th>\n",
       "      <td>57115.424514</td>\n",
       "      <td>463</td>\n",
       "    </tr>\n",
       "    <tr>\n",
       "      <th>NASSAU</th>\n",
       "      <td>29473.577551</td>\n",
       "      <td>196</td>\n",
       "    </tr>\n",
       "    <tr>\n",
       "      <th>ORANGE</th>\n",
       "      <td>41811.638571</td>\n",
       "      <td>21</td>\n",
       "    </tr>\n",
       "    <tr>\n",
       "      <th>SULLIVAN</th>\n",
       "      <td>62288.176365</td>\n",
       "      <td>685</td>\n",
       "    </tr>\n",
       "    <tr>\n",
       "      <th>WESTCHESTER</th>\n",
       "      <td>63542.543839</td>\n",
       "      <td>2813</td>\n",
       "    </tr>\n",
       "    <tr>\n",
       "      <th>DUTCHESS</th>\n",
       "      <td>47640.910734</td>\n",
       "      <td>109</td>\n",
       "    </tr>\n",
       "    <tr>\n",
       "      <th>GREENE</th>\n",
       "      <td>58671.880784</td>\n",
       "      <td>51</td>\n",
       "    </tr>\n",
       "    <tr>\n",
       "      <th>PUTNAM</th>\n",
       "      <td>61109.056418</td>\n",
       "      <td>201</td>\n",
       "    </tr>\n",
       "    <tr>\n",
       "      <th>SCHOHARIE</th>\n",
       "      <td>62956.624621</td>\n",
       "      <td>145</td>\n",
       "    </tr>\n",
       "    <tr>\n",
       "      <th>ULSTER</th>\n",
       "      <td>69858.485507</td>\n",
       "      <td>1578</td>\n",
       "    </tr>\n",
       "    <tr>\n",
       "      <th>WASHINGTON DC</th>\n",
       "      <td>99925.463158</td>\n",
       "      <td>38</td>\n",
       "    </tr>\n",
       "    <tr>\n",
       "      <th>Bronx</th>\n",
       "      <td>58788.137465</td>\n",
       "      <td>935</td>\n",
       "    </tr>\n",
       "    <tr>\n",
       "      <th>Manhattan</th>\n",
       "      <td>62936.848804</td>\n",
       "      <td>1622</td>\n",
       "    </tr>\n",
       "    <tr>\n",
       "      <th>Queens</th>\n",
       "      <td>71758.649530</td>\n",
       "      <td>660</td>\n",
       "    </tr>\n",
       "    <tr>\n",
       "      <th>Richmond</th>\n",
       "      <td>69804.469375</td>\n",
       "      <td>112</td>\n",
       "    </tr>\n",
       "  </tbody>\n",
       "</table>\n",
       "</div>"
      ],
      "text/plain": [
       "                                mean     size\n",
       "work_location_borough                        \n",
       "BRONX                   47171.360681   149190\n",
       "BROOKLYN                50890.928742   270114\n",
       "MANHATTAN               37865.767834  1973648\n",
       "OTHER                  108812.605680    71698\n",
       "QUEENS                  50289.966593   314273\n",
       "RICHMOND                52540.433670    38231\n",
       "ALBANY                  66348.303243       74\n",
       "DELAWARE                57115.424514      463\n",
       "NASSAU                  29473.577551      196\n",
       "ORANGE                  41811.638571       21\n",
       "SULLIVAN                62288.176365      685\n",
       "WESTCHESTER             63542.543839     2813\n",
       "DUTCHESS                47640.910734      109\n",
       "GREENE                  58671.880784       51\n",
       "PUTNAM                  61109.056418      201\n",
       "SCHOHARIE               62956.624621      145\n",
       "ULSTER                  69858.485507     1578\n",
       "WASHINGTON DC           99925.463158       38\n",
       "Bronx                   58788.137465      935\n",
       "Manhattan               62936.848804     1622\n",
       "Queens                  71758.649530      660\n",
       "Richmond                69804.469375      112"
      ]
     },
     "execution_count": 22,
     "metadata": {},
     "output_type": "execute_result"
    },
    {
     "name": "stderr",
     "output_type": "stream",
     "text": [
      "distributed.utils - ERROR - 'aggregate-agg-getitem'\n",
      "Traceback (most recent call last):\n",
      "  File \"/Users/daniel/miniconda3/envs/pydask/lib/python3.7/site-packages/distributed/utils.py\", line 664, in log_errors\n",
      "    yield\n",
      "  File \"/Users/daniel/miniconda3/envs/pydask/lib/python3.7/site-packages/distributed/dashboard/components/shared.py\", line 312, in update\n",
      "    ts = metadata[\"keys\"][self.key]\n",
      "KeyError: 'aggregate-agg-getitem'\n",
      "tornado.application - ERROR - Exception in callback functools.partial(<bound method IOLoop._discard_future_result of <zmq.eventloop.ioloop.ZMQIOLoop object at 0x115986b50>>, <Task finished coro=<_needs_document_lock.<locals>._needs_document_lock_wrapper() done, defined at /Users/daniel/miniconda3/envs/pydask/lib/python3.7/site-packages/bokeh/server/session.py:51> exception=KeyError('aggregate-agg-getitem')>)\n",
      "Traceback (most recent call last):\n",
      "  File \"/Users/daniel/miniconda3/envs/pydask/lib/python3.7/site-packages/tornado/ioloop.py\", line 743, in _run_callback\n",
      "    ret = callback()\n",
      "  File \"/Users/daniel/miniconda3/envs/pydask/lib/python3.7/site-packages/tornado/ioloop.py\", line 767, in _discard_future_result\n",
      "    future.result()\n",
      "  File \"/Users/daniel/miniconda3/envs/pydask/lib/python3.7/site-packages/bokeh/server/session.py\", line 67, in _needs_document_lock_wrapper\n",
      "    result = func(self, *args, **kwargs)\n",
      "  File \"/Users/daniel/miniconda3/envs/pydask/lib/python3.7/site-packages/bokeh/server/session.py\", line 195, in with_document_locked\n",
      "    return func(*args, **kwargs)\n",
      "  File \"/Users/daniel/miniconda3/envs/pydask/lib/python3.7/site-packages/bokeh/document/document.py\", line 1164, in wrapper\n",
      "    return doc._with_self_as_curdoc(invoke)\n",
      "  File \"/Users/daniel/miniconda3/envs/pydask/lib/python3.7/site-packages/bokeh/document/document.py\", line 1150, in _with_self_as_curdoc\n",
      "    return f()\n",
      "  File \"/Users/daniel/miniconda3/envs/pydask/lib/python3.7/site-packages/bokeh/document/document.py\", line 1163, in invoke\n",
      "    return f(*args, **kwargs)\n",
      "  File \"/Users/daniel/miniconda3/envs/pydask/lib/python3.7/site-packages/bokeh/document/document.py\", line 953, in remove_then_invoke\n",
      "    return callback(*args, **kwargs)\n",
      "  File \"/Users/daniel/miniconda3/envs/pydask/lib/python3.7/site-packages/distributed/dashboard/components/shared.py\", line 333, in <lambda>\n",
      "    self.doc().add_next_tick_callback(lambda: self.update(prof, metadata))\n",
      "  File \"/Users/daniel/miniconda3/envs/pydask/lib/python3.7/site-packages/bokeh/core/property/validation.py\", line 93, in func\n",
      "    return input_function(*args, **kwargs)\n",
      "  File \"/Users/daniel/miniconda3/envs/pydask/lib/python3.7/site-packages/distributed/dashboard/components/shared.py\", line 312, in update\n",
      "    ts = metadata[\"keys\"][self.key]\n",
      "KeyError: 'aggregate-agg-getitem'\n"
     ]
    }
   ],
   "source": [
    "grp['base_salary'].agg(['mean', 'size']).compute()"
   ]
  },
  {
   "cell_type": "markdown",
   "metadata": {},
   "source": [
    "# Why Dask?"
   ]
  },
  {
   "cell_type": "markdown",
   "metadata": {},
   "source": [
    "### Python all the way down...\n",
    "\n",
    "* Framework for parallel/distributed computing written in pure Python\n",
    "* If you're already using Python, just add another package\n",
    "* Integrates with existing Python environment, e.g. `numpy`, `pandas`, `sklearn`"
   ]
  },
  {
   "cell_type": "markdown",
   "metadata": {},
   "source": [
    "### From laptop to cluster\n",
    "\n",
    "* One line to start using on your laptop\n",
    "* Scripts to deploy to HPC, YARN, Kubernetes, a bunch of instances over SSH..."
   ]
  },
  {
   "cell_type": "markdown",
   "metadata": {},
   "source": [
    "## When to use dask\n",
    "\n",
    "__Your problem:__\n",
    "\n",
    "* does not fit in memory (on a single machine)\n",
    "* may be sped up though parallelism (single or multi-machine)\n",
    "* custom computations that don't fit into map/filter/reduce framework"
   ]
  },
  {
   "cell_type": "markdown",
   "metadata": {},
   "source": [
    "## When to not use Dask"
   ]
  },
  {
   "cell_type": "markdown",
   "metadata": {},
   "source": [
    "“Parallelism and distributed computing are expensive ways to accelerate your application.”\n",
    "\n",
    "Dask Documentation"
   ]
  },
  {
   "cell_type": "markdown",
   "metadata": {},
   "source": [
    "* Does your data fit into RAM?\n",
    "* Can you use profile and rewrite the slow parts in a compiled language? (or use `numba`)"
   ]
  },
  {
   "cell_type": "markdown",
   "metadata": {},
   "source": [
    "# Dask APIs"
   ]
  },
  {
   "cell_type": "markdown",
   "metadata": {},
   "source": [
    "“We will encourage you to develop the three great virtues of a programmer: \n",
    "laziness, impatience, and hubris.”\n",
    "\n",
    "Larry Wall - _Programming Perl_"
   ]
  },
  {
   "cell_type": "markdown",
   "metadata": {},
   "source": [
    "### High Level\n",
    "\n",
    "* DataFrame (pandas)\n",
    "* Array numpy\n",
    "* Bag (like pytoolz)\n",
    "\n",
    "### Lower Level\n",
    "\n",
    "* Delayed (Sync)\n",
    "* Futures (Async)"
   ]
  },
  {
   "cell_type": "code",
   "execution_count": null,
   "metadata": {},
   "outputs": [],
   "source": []
  }
 ],
 "metadata": {
  "kernelspec": {
   "display_name": "Python 3",
   "language": "python",
   "name": "python3"
  },
  "language_info": {
   "codemirror_mode": {
    "name": "ipython",
    "version": 3
   },
   "file_extension": ".py",
   "mimetype": "text/x-python",
   "name": "python",
   "nbconvert_exporter": "python",
   "pygments_lexer": "ipython3",
   "version": "3.7.6"
  },
  "toc": {
   "base_numbering": 1,
   "nav_menu": {},
   "number_sections": false,
   "sideBar": true,
   "skip_h1_title": false,
   "title_cell": "Table of Contents",
   "title_sidebar": "Contents",
   "toc_cell": false,
   "toc_position": {
    "height": "calc(100% - 180px)",
    "left": "10px",
    "top": "150px",
    "width": "366.6px"
   },
   "toc_section_display": true,
   "toc_window_display": true
  }
 },
 "nbformat": 4,
 "nbformat_minor": 4
}
