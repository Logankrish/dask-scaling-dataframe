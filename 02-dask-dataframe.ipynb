{
 "cells": [
  {
   "cell_type": "markdown",
   "metadata": {},
   "source": [
    "# Lesson 2: Dask DataFrames"
   ]
  },
  {
   "cell_type": "code",
   "execution_count": 40,
   "metadata": {},
   "outputs": [],
   "source": [
    "import dask.dataframe as dd\n",
    "import matplotlib.pyplot as plt\n",
    "import numpy as np\n",
    "import pandas as pd\n",
    "import seaborn as sns\n",
    "\n",
    "from dask.distributed import Client\n",
    "\n",
    "sns.set(style=\"white\", context=\"talk\")\n",
    "\n",
    "%matplotlib inline"
   ]
  },
  {
   "cell_type": "markdown",
   "metadata": {},
   "source": [
    "## Creating `dask` `DataFrames`"
   ]
  },
  {
   "cell_type": "markdown",
   "metadata": {},
   "source": [
    "* read_table/read_csv\n",
    "* read_parquet\n",
    "* read_json\n",
    "* from_pandas\n",
    "* read_sql_table\n",
    "\n",
    "\n",
    "* from_delayed\n",
    "* from_dask_array\n",
    "* `Bag.to_dataframe`"
   ]
  },
  {
   "cell_type": "markdown",
   "metadata": {},
   "source": [
    "If you're using Dask, it's likely your data does not fit in memory."
   ]
  },
  {
   "cell_type": "markdown",
   "metadata": {},
   "source": [
    "__TODO: Show reading in CSV data__"
   ]
  },
  {
   "cell_type": "markdown",
   "metadata": {},
   "source": [
    "## NYC Taxi Trips & Fares"
   ]
  },
  {
   "cell_type": "markdown",
   "metadata": {},
   "source": [
    "There datasets are fairly __large__, and this is only for 2013...\n",
    "\n",
    "http://www.andresmh.com/nyctaxitrips/\n",
    "\n",
    "* [Trip Data](https://archive.org/download/nycTaxiTripData2013/trip_data.7z) - 4.1 GB\n",
    "* [Fare Data](https://archive.org/download/nycTaxiTripData2013/trip_fare.7z) - 1.7 GB\n"
   ]
  },
  {
   "cell_type": "markdown",
   "metadata": {},
   "source": [
    "## Lazily read the taxi data"
   ]
  },
  {
   "cell_type": "code",
   "execution_count": 2,
   "metadata": {},
   "outputs": [],
   "source": [
    "client = Client()"
   ]
  },
  {
   "cell_type": "code",
   "execution_count": 3,
   "metadata": {},
   "outputs": [],
   "source": [
    "trips = dd.read_parquet(\"data/taxi-small/trips.parq/\")"
   ]
  },
  {
   "cell_type": "markdown",
   "metadata": {},
   "source": [
    "Check the [read_parquet](https://docs.dask.org/en/latest/dataframe-api.html#dask.dataframe.read_parquet) parameters from time-to-time. Due to ongoing `pyarrow` improvements, parquet functionality is changing rapidly!"
   ]
  },
  {
   "cell_type": "code",
   "execution_count": 4,
   "metadata": {},
   "outputs": [
    {
     "data": {
      "text/plain": [
       "31"
      ]
     },
     "execution_count": 4,
     "metadata": {},
     "output_type": "execute_result"
    }
   ],
   "source": [
    "trips.npartitions"
   ]
  },
  {
   "cell_type": "code",
   "execution_count": 5,
   "metadata": {},
   "outputs": [
    {
     "data": {
      "text/html": [
       "<div><strong>Dask DataFrame Structure:</strong></div>\n",
       "<div>\n",
       "<style scoped>\n",
       "    .dataframe tbody tr th:only-of-type {\n",
       "        vertical-align: middle;\n",
       "    }\n",
       "\n",
       "    .dataframe tbody tr th {\n",
       "        vertical-align: top;\n",
       "    }\n",
       "\n",
       "    .dataframe thead th {\n",
       "        text-align: right;\n",
       "    }\n",
       "</style>\n",
       "<table border=\"1\" class=\"dataframe\">\n",
       "  <thead>\n",
       "    <tr style=\"text-align: right;\">\n",
       "      <th></th>\n",
       "      <th>medallion_id</th>\n",
       "      <th>hack_license_id</th>\n",
       "      <th>rate_code</th>\n",
       "      <th>passenger_count</th>\n",
       "      <th>trip_time_in_secs</th>\n",
       "      <th>trip_distance</th>\n",
       "      <th>pickup_longitude</th>\n",
       "      <th>pickup_latitude</th>\n",
       "    </tr>\n",
       "    <tr>\n",
       "      <th>npartitions=1</th>\n",
       "      <th></th>\n",
       "      <th></th>\n",
       "      <th></th>\n",
       "      <th></th>\n",
       "      <th></th>\n",
       "      <th></th>\n",
       "      <th></th>\n",
       "      <th></th>\n",
       "    </tr>\n",
       "  </thead>\n",
       "  <tbody>\n",
       "    <tr>\n",
       "      <th>2013-12-01</th>\n",
       "      <td>uint16</td>\n",
       "      <td>uint16</td>\n",
       "      <td>uint8</td>\n",
       "      <td>uint32</td>\n",
       "      <td>uint32</td>\n",
       "      <td>float64</td>\n",
       "      <td>float64</td>\n",
       "      <td>float64</td>\n",
       "    </tr>\n",
       "    <tr>\n",
       "      <th>2013-12-02</th>\n",
       "      <td>...</td>\n",
       "      <td>...</td>\n",
       "      <td>...</td>\n",
       "      <td>...</td>\n",
       "      <td>...</td>\n",
       "      <td>...</td>\n",
       "      <td>...</td>\n",
       "      <td>...</td>\n",
       "    </tr>\n",
       "  </tbody>\n",
       "</table>\n",
       "</div>\n",
       "<div>Dask Name: head, 32 tasks</div>"
      ],
      "text/plain": [
       "Dask DataFrame Structure:\n",
       "              medallion_id hack_license_id rate_code passenger_count trip_time_in_secs trip_distance pickup_longitude pickup_latitude\n",
       "npartitions=1                                                                                                                        \n",
       "2013-12-01          uint16          uint16     uint8          uint32            uint32       float64          float64         float64\n",
       "2013-12-02             ...             ...       ...             ...               ...           ...              ...             ...\n",
       "Dask Name: head, 32 tasks"
      ]
     },
     "execution_count": 5,
     "metadata": {},
     "output_type": "execute_result"
    }
   ],
   "source": [
    "trips.head(compute=False)"
   ]
  },
  {
   "cell_type": "markdown",
   "metadata": {},
   "source": [
    "We now have 32 tasks (31 partitions + 1 `head` task) that have not yet been evaluated."
   ]
  },
  {
   "cell_type": "markdown",
   "metadata": {},
   "source": [
    "## Selecting data"
   ]
  },
  {
   "cell_type": "markdown",
   "metadata": {},
   "source": [
    "Use standard `pandas` boolean queries."
   ]
  },
  {
   "cell_type": "code",
   "execution_count": 10,
   "metadata": {},
   "outputs": [
    {
     "data": {
      "text/plain": [
       "33249"
      ]
     },
     "execution_count": 10,
     "metadata": {},
     "output_type": "execute_result"
    }
   ],
   "source": [
    "trips[trips.passenger_count > 4].shape[0].compute()"
   ]
  },
  {
   "cell_type": "markdown",
   "metadata": {},
   "source": [
    "This will be parallelized and is quite performant."
   ]
  },
  {
   "cell_type": "markdown",
   "metadata": {},
   "source": [
    "### Selection on the index is fast"
   ]
  },
  {
   "cell_type": "code",
   "execution_count": 6,
   "metadata": {},
   "outputs": [],
   "source": [
    "xmas = trips.loc[\"2013-12-25\", :]"
   ]
  },
  {
   "cell_type": "code",
   "execution_count": 7,
   "metadata": {},
   "outputs": [
    {
     "name": "stdout",
     "output_type": "stream",
     "text": [
      "CPU times: user 21 ms, sys: 4.62 ms, total: 25.6 ms\n",
      "Wall time: 461 ms\n"
     ]
    }
   ],
   "source": [
    "%time xmas_df = xmas.compute()"
   ]
  },
  {
   "cell_type": "code",
   "execution_count": 8,
   "metadata": {},
   "outputs": [
    {
     "data": {
      "text/plain": [
       "3.154237343317597"
      ]
     },
     "execution_count": 8,
     "metadata": {},
     "output_type": "execute_result"
    }
   ],
   "source": [
    "xmas['trip_distance'].mean().compute()"
   ]
  },
  {
   "cell_type": "code",
   "execution_count": 9,
   "metadata": {},
   "outputs": [
    {
     "data": {
      "text/plain": [
       "2.9317822294093703"
      ]
     },
     "execution_count": 9,
     "metadata": {},
     "output_type": "execute_result"
    }
   ],
   "source": [
    "first_half = trips.loc[\"2013-12-01\":\"2013-12-15\", :]\n",
    "first_half[\"trip_distance\"].mean().compute()"
   ]
  },
  {
   "cell_type": "markdown",
   "metadata": {},
   "source": [
    "### `iloc` doesn't work"
   ]
  },
  {
   "cell_type": "markdown",
   "metadata": {},
   "source": [
    "Dask does not keep track of partition length [(link)](https://docs.dask.org/en/latest/dataframe-indexing.html#positional-indexing)."
   ]
  },
  {
   "cell_type": "code",
   "execution_count": null,
   "metadata": {},
   "outputs": [],
   "source": [
    "try:\n",
    "    trips.iloc[:5, :]\n",
    "except NotImplementedError as e:\n",
    "    print(e)"
   ]
  },
  {
   "cell_type": "markdown",
   "metadata": {},
   "source": [
    "## Setting the `Index`"
   ]
  },
  {
   "cell_type": "markdown",
   "metadata": {},
   "source": [
    "Setting the index on a DataFrame is generally slow because requires a shuffle. We'll talk about [shuffling](https://docs.dask.org/en/latest/dataframe-groupby.html#difficult-cases) later."
   ]
  },
  {
   "cell_type": "markdown",
   "metadata": {},
   "source": [
    "Ideally, persist the index when you write data out to a format like Parquet to save time."
   ]
  },
  {
   "cell_type": "markdown",
   "metadata": {},
   "source": [
    "Let's try changing up the index now."
   ]
  },
  {
   "cell_type": "code",
   "execution_count": null,
   "metadata": {},
   "outputs": [],
   "source": []
  },
  {
   "cell_type": "code",
   "execution_count": 57,
   "metadata": {},
   "outputs": [],
   "source": [
    "trips_hk = (trips.reset_index()\n",
    "    .assign(date=lambda df: df.pickup_datetime.dt.normalize())\n",
    "    .set_index(\"hack_license_id\")\n",
    "    .persist())"
   ]
  },
  {
   "cell_type": "code",
   "execution_count": 54,
   "metadata": {},
   "outputs": [
    {
     "data": {
      "text/html": [
       "<div>\n",
       "<style scoped>\n",
       "    .dataframe tbody tr th:only-of-type {\n",
       "        vertical-align: middle;\n",
       "    }\n",
       "\n",
       "    .dataframe tbody tr th {\n",
       "        vertical-align: top;\n",
       "    }\n",
       "\n",
       "    .dataframe thead th {\n",
       "        text-align: right;\n",
       "    }\n",
       "</style>\n",
       "<table border=\"1\" class=\"dataframe\">\n",
       "  <thead>\n",
       "    <tr style=\"text-align: right;\">\n",
       "      <th></th>\n",
       "      <th>pickup_datetime</th>\n",
       "      <th>medallion_id</th>\n",
       "      <th>rate_code</th>\n",
       "      <th>passenger_count</th>\n",
       "      <th>trip_time_in_secs</th>\n",
       "      <th>trip_distance</th>\n",
       "      <th>pickup_longitude</th>\n",
       "      <th>pickup_latitude</th>\n",
       "    </tr>\n",
       "    <tr>\n",
       "      <th>hack_license_id</th>\n",
       "      <th></th>\n",
       "      <th></th>\n",
       "      <th></th>\n",
       "      <th></th>\n",
       "      <th></th>\n",
       "      <th></th>\n",
       "      <th></th>\n",
       "      <th></th>\n",
       "    </tr>\n",
       "  </thead>\n",
       "  <tbody>\n",
       "    <tr>\n",
       "      <th>1</th>\n",
       "      <td>2013-12-19 20:34:00</td>\n",
       "      <td>1</td>\n",
       "      <td>1</td>\n",
       "      <td>1</td>\n",
       "      <td>1200</td>\n",
       "      <td>6.55</td>\n",
       "      <td>-73.965477</td>\n",
       "      <td>40.806160</td>\n",
       "    </tr>\n",
       "    <tr>\n",
       "      <th>1</th>\n",
       "      <td>2013-12-11 20:56:00</td>\n",
       "      <td>1</td>\n",
       "      <td>1</td>\n",
       "      <td>1</td>\n",
       "      <td>2040</td>\n",
       "      <td>4.03</td>\n",
       "      <td>-73.979393</td>\n",
       "      <td>40.763634</td>\n",
       "    </tr>\n",
       "    <tr>\n",
       "      <th>1</th>\n",
       "      <td>2013-12-07 21:08:00</td>\n",
       "      <td>1</td>\n",
       "      <td>1</td>\n",
       "      <td>1</td>\n",
       "      <td>780</td>\n",
       "      <td>4.10</td>\n",
       "      <td>-73.979988</td>\n",
       "      <td>40.726803</td>\n",
       "    </tr>\n",
       "    <tr>\n",
       "      <th>1</th>\n",
       "      <td>2013-12-12 22:18:00</td>\n",
       "      <td>1</td>\n",
       "      <td>1</td>\n",
       "      <td>1</td>\n",
       "      <td>240</td>\n",
       "      <td>0.45</td>\n",
       "      <td>-73.978386</td>\n",
       "      <td>40.761879</td>\n",
       "    </tr>\n",
       "    <tr>\n",
       "      <th>1</th>\n",
       "      <td>2013-12-18 18:53:00</td>\n",
       "      <td>1</td>\n",
       "      <td>1</td>\n",
       "      <td>1</td>\n",
       "      <td>960</td>\n",
       "      <td>2.43</td>\n",
       "      <td>-74.002274</td>\n",
       "      <td>40.740200</td>\n",
       "    </tr>\n",
       "  </tbody>\n",
       "</table>\n",
       "</div>"
      ],
      "text/plain": [
       "                    pickup_datetime  medallion_id  rate_code  passenger_count  \\\n",
       "hack_license_id                                                                 \n",
       "1               2013-12-19 20:34:00             1          1                1   \n",
       "1               2013-12-11 20:56:00             1          1                1   \n",
       "1               2013-12-07 21:08:00             1          1                1   \n",
       "1               2013-12-12 22:18:00             1          1                1   \n",
       "1               2013-12-18 18:53:00             1          1                1   \n",
       "\n",
       "                 trip_time_in_secs  trip_distance  pickup_longitude  \\\n",
       "hack_license_id                                                       \n",
       "1                             1200           6.55        -73.965477   \n",
       "1                             2040           4.03        -73.979393   \n",
       "1                              780           4.10        -73.979988   \n",
       "1                              240           0.45        -73.978386   \n",
       "1                              960           2.43        -74.002274   \n",
       "\n",
       "                 pickup_latitude  \n",
       "hack_license_id                   \n",
       "1                      40.806160  \n",
       "1                      40.763634  \n",
       "1                      40.726803  \n",
       "1                      40.761879  \n",
       "1                      40.740200  "
      ]
     },
     "execution_count": 54,
     "metadata": {},
     "output_type": "execute_result"
    }
   ],
   "source": [
    "trips_hk.head()"
   ]
  },
  {
   "cell_type": "code",
   "execution_count": 47,
   "metadata": {},
   "outputs": [],
   "source": [
    "trips_dt = trips.map_partitions(\n",
    "    lambda df: df.assign(date=df.index.normalize())).persist()"
   ]
  },
  {
   "cell_type": "code",
   "execution_count": 48,
   "metadata": {},
   "outputs": [
    {
     "data": {
      "text/html": [
       "<div>\n",
       "<style scoped>\n",
       "    .dataframe tbody tr th:only-of-type {\n",
       "        vertical-align: middle;\n",
       "    }\n",
       "\n",
       "    .dataframe tbody tr th {\n",
       "        vertical-align: top;\n",
       "    }\n",
       "\n",
       "    .dataframe thead th {\n",
       "        text-align: right;\n",
       "    }\n",
       "</style>\n",
       "<table border=\"1\" class=\"dataframe\">\n",
       "  <thead>\n",
       "    <tr style=\"text-align: right;\">\n",
       "      <th></th>\n",
       "      <th>medallion_id</th>\n",
       "      <th>hack_license_id</th>\n",
       "      <th>rate_code</th>\n",
       "      <th>passenger_count</th>\n",
       "      <th>trip_time_in_secs</th>\n",
       "      <th>trip_distance</th>\n",
       "      <th>pickup_longitude</th>\n",
       "      <th>pickup_latitude</th>\n",
       "      <th>date</th>\n",
       "    </tr>\n",
       "    <tr>\n",
       "      <th>pickup_datetime</th>\n",
       "      <th></th>\n",
       "      <th></th>\n",
       "      <th></th>\n",
       "      <th></th>\n",
       "      <th></th>\n",
       "      <th></th>\n",
       "      <th></th>\n",
       "      <th></th>\n",
       "      <th></th>\n",
       "    </tr>\n",
       "  </thead>\n",
       "  <tbody>\n",
       "    <tr>\n",
       "      <th>2013-12-01 00:00:00</th>\n",
       "      <td>3306</td>\n",
       "      <td>9702</td>\n",
       "      <td>1</td>\n",
       "      <td>1</td>\n",
       "      <td>360</td>\n",
       "      <td>2.07</td>\n",
       "      <td>-73.988358</td>\n",
       "      <td>40.723461</td>\n",
       "      <td>2013-12-01</td>\n",
       "    </tr>\n",
       "    <tr>\n",
       "      <th>2013-12-01 00:00:00</th>\n",
       "      <td>3540</td>\n",
       "      <td>6736</td>\n",
       "      <td>1</td>\n",
       "      <td>1</td>\n",
       "      <td>300</td>\n",
       "      <td>1.21</td>\n",
       "      <td>-73.947563</td>\n",
       "      <td>40.784515</td>\n",
       "      <td>2013-12-01</td>\n",
       "    </tr>\n",
       "    <tr>\n",
       "      <th>2013-12-01 00:00:00</th>\n",
       "      <td>5986</td>\n",
       "      <td>14096</td>\n",
       "      <td>1</td>\n",
       "      <td>3</td>\n",
       "      <td>840</td>\n",
       "      <td>3.85</td>\n",
       "      <td>-73.999901</td>\n",
       "      <td>40.728611</td>\n",
       "      <td>2013-12-01</td>\n",
       "    </tr>\n",
       "    <tr>\n",
       "      <th>2013-12-01 00:00:07</th>\n",
       "      <td>8899</td>\n",
       "      <td>18541</td>\n",
       "      <td>1</td>\n",
       "      <td>2</td>\n",
       "      <td>333</td>\n",
       "      <td>1.20</td>\n",
       "      <td>-73.951279</td>\n",
       "      <td>40.772842</td>\n",
       "      <td>2013-12-01</td>\n",
       "    </tr>\n",
       "    <tr>\n",
       "      <th>2013-12-01 00:00:08</th>\n",
       "      <td>7171</td>\n",
       "      <td>15110</td>\n",
       "      <td>1</td>\n",
       "      <td>1</td>\n",
       "      <td>331</td>\n",
       "      <td>1.00</td>\n",
       "      <td>-73.996834</td>\n",
       "      <td>40.753414</td>\n",
       "      <td>2013-12-01</td>\n",
       "    </tr>\n",
       "  </tbody>\n",
       "</table>\n",
       "</div>"
      ],
      "text/plain": [
       "                     medallion_id  hack_license_id  rate_code  \\\n",
       "pickup_datetime                                                 \n",
       "2013-12-01 00:00:00          3306             9702          1   \n",
       "2013-12-01 00:00:00          3540             6736          1   \n",
       "2013-12-01 00:00:00          5986            14096          1   \n",
       "2013-12-01 00:00:07          8899            18541          1   \n",
       "2013-12-01 00:00:08          7171            15110          1   \n",
       "\n",
       "                     passenger_count  trip_time_in_secs  trip_distance  \\\n",
       "pickup_datetime                                                          \n",
       "2013-12-01 00:00:00                1                360           2.07   \n",
       "2013-12-01 00:00:00                1                300           1.21   \n",
       "2013-12-01 00:00:00                3                840           3.85   \n",
       "2013-12-01 00:00:07                2                333           1.20   \n",
       "2013-12-01 00:00:08                1                331           1.00   \n",
       "\n",
       "                     pickup_longitude  pickup_latitude       date  \n",
       "pickup_datetime                                                    \n",
       "2013-12-01 00:00:00        -73.988358        40.723461 2013-12-01  \n",
       "2013-12-01 00:00:00        -73.947563        40.784515 2013-12-01  \n",
       "2013-12-01 00:00:00        -73.999901        40.728611 2013-12-01  \n",
       "2013-12-01 00:00:07        -73.951279        40.772842 2013-12-01  \n",
       "2013-12-01 00:00:08        -73.996834        40.753414 2013-12-01  "
      ]
     },
     "execution_count": 48,
     "metadata": {},
     "output_type": "execute_result"
    }
   ],
   "source": [
    "trips_dt.head()"
   ]
  },
  {
   "cell_type": "markdown",
   "metadata": {},
   "source": [
    "## Merge/Join"
   ]
  },
  {
   "cell_type": "code",
   "execution_count": null,
   "metadata": {},
   "outputs": [],
   "source": [
    "# fast\n",
    "dd.merge(df1, df2, left_index=True, right_index=True)"
   ]
  },
  {
   "cell_type": "code",
   "execution_count": null,
   "metadata": {},
   "outputs": [],
   "source": [
    "# fast\n",
    "dd.merge(df1, df2, on=['idx', 'x']) # idx is index for both"
   ]
  },
  {
   "cell_type": "code",
   "execution_count": null,
   "metadata": {},
   "outputs": [],
   "source": [
    "# join against another DataFrame\n",
    "dd.merge(df1, df2, on='id')"
   ]
  },
  {
   "cell_type": "markdown",
   "metadata": {},
   "source": [
    "## Groupby/Apply"
   ]
  },
  {
   "cell_type": "markdown",
   "metadata": {},
   "source": [
    "Depending on how you're grouping, dask can take a slow or fast path.\n",
    "\n",
    "Dask can efficiently perform split-apply-combinations the following conditions:\n",
    "\n",
    "* group-on-index -> aggregate or apply\n",
    "  * group-on-index + other columns -> aggregate or apply\n",
    "* group -> aggregate"
   ]
  },
  {
   "cell_type": "markdown",
   "metadata": {},
   "source": [
    "### Fast Groupby Aggregate/Apply"
   ]
  },
  {
   "cell_type": "markdown",
   "metadata": {},
   "source": [
    "Aggregations, even on non-index columns, are quite fast."
   ]
  },
  {
   "cell_type": "code",
   "execution_count": 12,
   "metadata": {},
   "outputs": [],
   "source": [
    "hack_avg = trips.groupby('hack_license_id')['trip_distance'].mean().compute()"
   ]
  },
  {
   "cell_type": "code",
   "execution_count": 28,
   "metadata": {},
   "outputs": [
    {
     "data": {
      "image/png": "[encoded data removed]",
      "text/plain": [
       "<Figure size 432x288 with 1 Axes>"
      ]
     },
     "metadata": {
      "needs_background": "light"
     },
     "output_type": "display_data"
    }
   ],
   "source": [
    "_ = sns.distplot(np.log10(1. + hack_avg), color=\"m\")"
   ]
  },
  {
   "cell_type": "markdown",
   "metadata": {},
   "source": [
    "Grouping along the index (or a computation on the index), is fast."
   ]
  },
  {
   "cell_type": "code",
   "execution_count": null,
   "metadata": {},
   "outputs": [],
   "source": [
    "trips_1d_v1 = trips.groupby(trips.index.dt.date).size().compute()"
   ]
  },
  {
   "cell_type": "code",
   "execution_count": null,
   "metadata": {},
   "outputs": [],
   "source": [
    "trips_1d_v2 = trips.resample('1D').size().compute()"
   ]
  },
  {
   "cell_type": "markdown",
   "metadata": {},
   "source": [
    "### Index + other columns is still fast"
   ]
  },
  {
   "cell_type": "code",
   "execution_count": null,
   "metadata": {},
   "outputs": [],
   "source": [
    "%%time \n",
    "trips_1w = (trips.groupby([trips.index.dt.weekofyear, 'rate_code'])\n",
    "    .mean().compute())"
   ]
  },
  {
   "cell_type": "code",
   "execution_count": null,
   "metadata": {},
   "outputs": [],
   "source": [
    "# you can switch the order in this case and perf is the same\n",
    "# trips.groupby(['rate_code', trips.index.dt.weekofyear]).mean().compute()"
   ]
  },
  {
   "cell_type": "markdown",
   "metadata": {},
   "source": [
    "TODO: Show pd.grouper"
   ]
  },
  {
   "cell_type": "markdown",
   "metadata": {},
   "source": [
    "### Slow apply"
   ]
  },
  {
   "cell_type": "code",
   "execution_count": 33,
   "metadata": {},
   "outputs": [
    {
     "name": "stdout",
     "output_type": "stream",
     "text": [
      "CPU times: user 1.12 s, sys: 84.4 ms, total: 1.2 s\n",
      "Wall time: 5.53 s\n"
     ]
    }
   ],
   "source": [
    "%%time\n",
    "dist_time_corr = (\n",
    "    trips.groupby(\"hack_license_id\")\n",
    "    .apply(lambda df: df.trip_time_in_secs.corr(df.trip_distance),\n",
    "           meta=(\"corr\", \"f8\"))\n",
    "    .compute()\n",
    ")"
   ]
  },
  {
   "cell_type": "markdown",
   "metadata": {},
   "source": [
    "### Slow aggregation"
   ]
  },
  {
   "cell_type": "code",
   "execution_count": null,
   "metadata": {},
   "outputs": [],
   "source": [
    "trips.groupby(['pickup', 'x']).apply()"
   ]
  },
  {
   "cell_type": "markdown",
   "metadata": {},
   "source": [
    "## Using the `index`"
   ]
  },
  {
   "cell_type": "code",
   "execution_count": null,
   "metadata": {},
   "outputs": [],
   "source": [
    "# fast\n",
    "dd.merge(df1, df2, left_index=True, right_index=True)"
   ]
  },
  {
   "cell_type": "code",
   "execution_count": null,
   "metadata": {},
   "outputs": [],
   "source": [
    "# fast\n",
    "dd.merge(df1, df2, on=['idx', 'x']) # idx is index for both"
   ]
  },
  {
   "cell_type": "markdown",
   "metadata": {},
   "source": [
    "## Querying the data"
   ]
  },
  {
   "cell_type": "markdown",
   "metadata": {},
   "source": [
    "## Merge/Join"
   ]
  },
  {
   "cell_type": "code",
   "execution_count": null,
   "metadata": {},
   "outputs": [],
   "source": [
    "# fast\n",
    "dd.merge(df1, df2, left_index=True, right_index=True)"
   ]
  },
  {
   "cell_type": "code",
   "execution_count": null,
   "metadata": {},
   "outputs": [],
   "source": [
    "# fast\n",
    "dd.merge(df1, df2, on=['idx', 'x']) # idx is index for both"
   ]
  },
  {
   "cell_type": "code",
   "execution_count": null,
   "metadata": {},
   "outputs": [],
   "source": [
    "# join against another DataFrame\n",
    "dd.merge(df1, df2, on='id')"
   ]
  },
  {
   "cell_type": "markdown",
   "metadata": {},
   "source": [
    "## General computations"
   ]
  },
  {
   "cell_type": "code",
   "execution_count": null,
   "metadata": {},
   "outputs": [],
   "source": [
    "df1.x + df2.y # fast"
   ]
  },
  {
   "cell_type": "code",
   "execution_count": null,
   "metadata": {},
   "outputs": [],
   "source": [
    "df.rolling()"
   ]
  },
  {
   "cell_type": "code",
   "execution_count": null,
   "metadata": {},
   "outputs": [],
   "source": [
    "df.where(df.x > 5, np.nan) # keep > 5 only, others nan\n",
    "df.mask(df.5 < 5) # < 5 is nan"
   ]
  },
  {
   "cell_type": "markdown",
   "metadata": {},
   "source": [
    "## Optimizing"
   ]
  },
  {
   "cell_type": "markdown",
   "metadata": {},
   "source": [
    "Use categories if possible"
   ]
  },
  {
   "cell_type": "markdown",
   "metadata": {},
   "source": [
    "## Don't do the shuffle"
   ]
  },
  {
   "cell_type": "code",
   "execution_count": null,
   "metadata": {},
   "outputs": [],
   "source": [
    "df.set_index(df.x)"
   ]
  },
  {
   "cell_type": "code",
   "execution_count": null,
   "metadata": {},
   "outputs": [],
   "source": [
    "dd.merge(df1, df2, on='not_index')"
   ]
  },
  {
   "cell_type": "markdown",
   "metadata": {},
   "source": [
    "## Reshape/Pivot\n",
    "\n",
    "* get_dummies\n",
    "* pivot_table\n",
    "* melt"
   ]
  },
  {
   "cell_type": "markdown",
   "metadata": {},
   "source": [
    "## Dask Specific"
   ]
  },
  {
   "cell_type": "markdown",
   "metadata": {},
   "source": [
    "df.map_partitions("
   ]
  },
  {
   "cell_type": "code",
   "execution_count": null,
   "metadata": {},
   "outputs": [],
   "source": [
    "repartition(divisions, npartitions, freq, partition_size) # one of these"
   ]
  },
  {
   "cell_type": "code",
   "execution_count": null,
   "metadata": {},
   "outputs": [],
   "source": [
    "df.random_split([0.8, 0.2])"
   ]
  },
  {
   "cell_type": "code",
   "execution_count": null,
   "metadata": {},
   "outputs": [],
   "source": [
    "df.rolling.map_overlap\n",
    "\n",
    "# https://docs.dask.org/en/latest/dataframe-api.html#dask.dataframe.rolling.map_overlap"
   ]
  },
  {
   "cell_type": "markdown",
   "metadata": {},
   "source": [
    "### Series"
   ]
  },
  {
   "cell_type": "code",
   "execution_count": null,
   "metadata": {},
   "outputs": [],
   "source": [
    "map_overlap"
   ]
  },
  {
   "cell_type": "code",
   "execution_count": null,
   "metadata": {},
   "outputs": [],
   "source": [
    "nunique_approx"
   ]
  },
  {
   "cell_type": "markdown",
   "metadata": {},
   "source": [
    "`split_every`: Group partitions into groups of this size while performing a tree-reduction. If set to False, no tree-reduction will be used. Default is 8."
   ]
  },
  {
   "cell_type": "markdown",
   "metadata": {},
   "source": [
    "## Save Dataframes\n",
    "\n",
    "* to_csv\n",
    "* to_parquet\n",
    "* to_hdf\n",
    "* to_json\n",
    "\n",
    "### From Dask DataFrames\n",
    "* to_delayed\n",
    "* to_records\n",
    "* to_bag\n"
   ]
  }
 ],
 "metadata": {
  "kernelspec": {
   "display_name": "Python 3",
   "language": "python",
   "name": "python3"
  },
  "language_info": {
   "codemirror_mode": {
    "name": "ipython",
    "version": 3
   },
   "file_extension": ".py",
   "mimetype": "text/x-python",
   "name": "python",
   "nbconvert_exporter": "python",
   "pygments_lexer": "ipython3",
   "version": "3.8.2"
  },
  "toc": {
   "base_numbering": 1,
   "nav_menu": {},
   "number_sections": false,
   "sideBar": true,
   "skip_h1_title": false,
   "title_cell": "Table of Contents",
   "title_sidebar": "Contents",
   "toc_cell": false,
   "toc_position": {},
   "toc_section_display": true,
   "toc_window_display": true
  },
  "toc-showcode": true,
  "toc-showmarkdowntxt": true,
  "toc-showtags": false
 },
 "nbformat": 4,
 "nbformat_minor": 4
}
